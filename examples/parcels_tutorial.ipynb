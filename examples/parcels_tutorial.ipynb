{
 "cells": [
  {
   "cell_type": "markdown",
   "metadata": {
    "deletable": true,
    "editable": true
   },
   "source": [
    "# Parcels Tutorial"
   ]
  },
  {
   "cell_type": "markdown",
   "metadata": {
    "deletable": true,
    "editable": true
   },
   "source": [
    "Welcome to a quick tutorial on Parcels. This is meant to get you started with the code, and give you a flavour of some of the key features of Parcels."
   ]
  },
  {
   "cell_type": "markdown",
   "metadata": {
    "deletable": true,
    "editable": true
   },
   "source": [
    "In this tutorial, we will first cover how to run a set of particles [from a very simple idealised field](#Running-particles-in-an-idealised-field). We will show how easy it is to run particles in [time-backward mode](#Running-particles-in-backward-time). Then, we will show how to [add custom behaviour](#Adding-a-custom-behaviour-kernel) to the particles. Then we will show how to [run particles in a set of NetCDF files from external data](#Reading-in-data-from-arbritrary-NetCDF-files). Then we will show how to use particles to [sample a field](#Sampling-a-Field-with-Particles) such as temperature or sea surface height. And finally, we will show how to [write a kernel that tracks the distance travelled by the particles](#A-second-example-kernel:-calculating-distance-travelled)."
   ]
  },
  {
   "cell_type": "markdown",
   "metadata": {
    "deletable": true,
    "editable": true
   },
   "source": [
    "Let's start with importing the relevant modules. The key ones are all in the `parcels` directory."
   ]
  },
  {
   "cell_type": "code",
   "execution_count": 1,
   "metadata": {
    "collapsed": false,
    "deletable": true,
    "editable": true
   },
   "outputs": [],
   "source": [
    "from parcels import FieldSet, ParticleSet, Variable, JITParticle, AdvectionRK4, plotTrajectoriesFile\n",
    "import numpy as np\n",
    "import math\n",
    "from datetime import timedelta\n",
    "from operator import attrgetter"
   ]
  },
  {
   "cell_type": "markdown",
   "metadata": {
    "deletable": true,
    "editable": true
   },
   "source": [
    "## Running particles in an idealised field"
   ]
  },
  {
   "cell_type": "markdown",
   "metadata": {
    "deletable": true,
    "editable": true
   },
   "source": [
    "The first step to running particles with Parcels is to define a `FieldSet` object, which is simply a collection of hydrodynamic fields. In this first case, we use a simple flow of two idealised moving eddies. That field is saved in NetCDF format in the directory `examples/MovingEddies_data`. Since we know that the files are in what's called `NEMO` format, we can call these files using the function `FieldSet.from_nemo()`."
   ]
  },
  {
   "cell_type": "code",
   "execution_count": 2,
   "metadata": {
    "collapsed": false,
    "deletable": true,
    "editable": true
   },
   "outputs": [],
   "source": [
    "fieldset = FieldSet.from_nemo(\"MovingEddies_data/moving_eddies\")"
   ]
  },
  {
   "cell_type": "markdown",
   "metadata": {
    "deletable": true,
    "editable": true
   },
   "source": [
    "The `fieldset` can then be visualised with the `show()` function. To plot an animation of the zonal velocity (`U`), give the following command"
   ]
  },
  {
   "cell_type": "code",
   "execution_count": 3,
   "metadata": {
    "collapsed": false,
    "deletable": true,
    "editable": true
   },
   "outputs": [
    {
     "data": {
      "text/html": [
       "<video width=\"432\" height=\"288\" controls autoplay loop>\n",
       "  <source type=\"video/mp4\" src=\"data:video/mp4;base64,AAAAHGZ0eXBNNFYgAAACAGlzb21pc28yYXZjMQAAAAhmcmVlAAAXDm1kYXQAAAKgBgX//5zcRem9\n",
       "5tlIt5Ys2CDZI+7veDI2NCAtIGNvcmUgMTQ4IC0gSC4yNjQvTVBFRy00IEFWQyBjb2RlYyAtIENv\n",
       "cHlsZWZ0IDIwMDMtMjAxNiAtIGh0dHA6Ly93d3cudmlkZW9sYW4ub3JnL3gyNjQuaHRtbCAtIG9w\n",
       "dGlvbnM6IGNhYmFjPTEgcmVmPTMgZGVibG9jaz0xOjA6MCBhbmFseXNlPTB4MzoweDExMyBtZT1o\n",
       "ZXggc3VibWU9NyBwc3k9MSBwc3lfcmQ9MS4wMDowLjAwIG1peGVkX3JlZj0xIG1lX3JhbmdlPTE2\n",
       "IGNocm9tYV9tZT0xIHRyZWxsaXM9MSA4eDhkY3Q9MSBjcW09MCBkZWFkem9uZT0yMSwxMSBmYXN0\n",
       "X3Bza2lwPTEgY2hyb21hX3FwX29mZnNldD0tMiB0aHJlYWRzPTkgbG9va2FoZWFkX3RocmVhZHM9\n",
       "MSBzbGljZWRfdGhyZWFkcz0wIG5yPTAgZGVjaW1hdGU9MSBpbnRlcmxhY2VkPTAgYmx1cmF5X2Nv\n",
       "bXBhdD0wIGNvbnN0cmFpbmVkX2ludHJhPTAgYmZyYW1lcz0zIGJfcHlyYW1pZD0yIGJfYWRhcHQ9\n",
       "MSBiX2JpYXM9MCBkaXJlY3Q9MSB3ZWlnaHRiPTEgb3Blbl9nb3A9MCB3ZWlnaHRwPTIga2V5aW50\n",
       "PTI1MCBrZXlpbnRfbWluPTEwIHNjZW5lY3V0PTQwIGludHJhX3JlZnJlc2g9MCByY19sb29rYWhl\n",
       "YWQ9NDAgcmM9Y3JmIG1idHJlZT0xIGNyZj0yMy4wIHFjb21wPTAuNjAgcXBtaW49MCBxcG1heD02\n",
       "OSBxcHN0ZXA9NCBpcF9yYXRpbz0xLjQwIGFxPTE6MS4wMACAAAAOmWWIhAAQ//73gb8yy18iuslx\n",
       "+ed9LKzPPOQ8cl2JrrjQAAADAAzdk1/4fJp7EAVnynEwv29iGpi81H1zK/LdppkQ4R4lzIqaM8Ra\n",
       "tJrbvrWF+tdgACsjL0JFHTJ+eMFKOqu1eqHhDVeho7FPFsNjyyYJJqoqOQg/et4F6z/9Nl3C0ouw\n",
       "ZtAO5cqF+0VwJ+xbp1JtmYwlnnx17HzmpSD2kn1fI8h419YMezqdWT4muxCvvG//dliCykJqB2Rs\n",
       "8h4C1XaR/MYrcV1yMcXw8mrhm6h/qtHERIeY/8o88BzwdakyEozbLOP9zngErbH53PWK2AcRrtTB\n",
       "igO3In2xfti7suMcOdpompk731/LfSRfys38NF0YKFxFjvDWdxuofPVaMKrtYu2GhpH1jDq7bztZ\n",
       "AAADAYx2REyj/LnLDii1tGiFsZAbcB4gzakChdnHwMv73V8NyNmcz8oEvhK/BgHTXdI1mHdb2JA0\n",
       "IsPtDCCgThJrb6EssfM/vmzVUAvHlMeemSEvqsdf7sHIB5gZtZe2a7cVl91ER/MOL0GM2m1p3vp/\n",
       "IONcetwZ92rh/UF3nudhmHKa/8BHyASjg4ZxPtMNReuBSW92ooRkt+ElvfMM/1q2dunVE8SztMzO\n",
       "jtTR7xolml2hecagwg3rYgk7UNEFY+i8jiXfhi3XGT38+yqhcPpqGD1VSLbXtFeIJEG3zOcssSbZ\n",
       "vXkfu2UWLaJnKu+elW+jXlYfZlWphug3QyThPbi0pTJRfXb8HFLsYArPNFE2n90fE/r/VVw4CEFI\n",
       "hXKW0Fgiyh4AYebhskt5YGfZ71i605bTp9JrVMxVxZWF+EMMERomshYPzoJaDCrkTpg1IoOEq2ot\n",
       "kwNcuT6/v70ypOwejTzWJhBoSro4+Jn7eIAQqfEJcT2B3TZ0a187XlDT6xv3LXIMtggABpZzdJf8\n",
       "U9gkF/JeNrAp3zI+fXKEwJjPC6NSmBy3deHiVYpIzCIJJMaH3+zaCnRvoxzxhr/olg18CQlCIYxr\n",
       "wlyMKfQElr+Pqvz4shwh86XT4JEVgxnH0GHJf2/qMtpWHtBBt661RexI3PVa0sHvj3Q5wYkXr3hl\n",
       "0nZjwey7PcQh0gsE3b9xqawibSDdtBOAE2AuZhsrWppVH+nF2WAPtZxjJ5AYBHshbhEV7FidO+UN\n",
       "ZZoIAZGrB5XAy4aKXNTqiHyGq/IQtJYVdTMWWLhr4GI3Vway4JGpyVy8GC/vF2RRVAAPNqKW0FSQ\n",
       "OM35O5AVnMOkC0CX2OE4qOmWy+SKTQhRfxIuq1uu1Ojl+bI9WZfL3ue+ojkFGYyTGjhWAXcx21TM\n",
       "Nuy6z5LG0DGqN8c1P7suNGFGAF2OnlYPUBvhj5Utj6PW0m4yRLsCDBS9NG0aW4N0Z0CTmLpmQcJk\n",
       "kzFQ/KpTq5F75q9Aq6LrmNECQIIPJLZ8sb/x4qnp0x3wQpNHduyQBNaYxYrbCxcPBgXS0J3r/djj\n",
       "EhNLKaN3JeCQcqAebs5V++MV9gpGM5v0Pk4hZhtRQH6XnRKZyTxsa55pEqstrZM+rGyP7yLngWvM\n",
       "/uRyS7DoYZz7m6jf/agwNc4TC5+nWo/uAaFdV6kFAiD9lvObCyrWqZM6jfayA3JD298fyXfKiFfy\n",
       "FwG8guX+/b/oevP4DtqR5gDlAe4ZkW1W1d4WRfqJ+tlSuoSNkDS+xY8c97w9TtkxITL6FB3u86mY\n",
       "WE64gLsEVCL35P1QIwcwMQTugEh8NcvXBIVS1Mwl8nBpAq0kZzBJF3Iv4KtvUJbpH3ihcfYkS8oz\n",
       "KVFmmeSfZYouLitYhLRI7TKiYoEsgFWsks9TA4Fy7q2WFcf1J+PIHHjdSE7RHwb7Xc9E9TII+N59\n",
       "/R3CCoKYraJwmsX/13I/J+ggQDRJt794cDFxHRWvf8UHUN0F1Hh3mRzSm+ierU4nLn1P6VENftym\n",
       "n8lSAaH9ApQHY2kc3QoLx7mtKpLh3ZuPQpPTnIfBNtci2WK4BaXlFQ56EFRPHMOcdKiMlPyK4K1i\n",
       "nLDseD43XFShT9cIsvFekA6qyxwAHcr0/AmXbmmlxi7gcB3cB+MbXXa+p0i+Ln2rGNaz5SyOIMjE\n",
       "DGlsdChFx2YCrtevRFDu28dQroVCVpvmF5hBnAhEfrV6FQCv12WsvaT+uZIxXMqlsvBxlxjlfzVj\n",
       "Yk5n7j+SmBATpBk65bwQvbUvLWH3oZwzjnfJQ/QY7wThpsx5M0ql6MaVZK+AylZ+yTOSnNxzvwM/\n",
       "HlHtykOTSXogkD+kICgCjgYCGK87Y5XCHOpkdsjYP938olH4/vCMhFnNHWGF2RwsS1MMGLvyZsPc\n",
       "zi8RWmKR4yUVyF8uSPfF0ooxG7aGaB8Z80LQWdoLwuEnatxVa/dNxc9nIL+DXtz05HVflUYXXgQb\n",
       "YcbCjZYBvB5wfmJWyfT6jpSdKyIJsymSFXr5m5ixNsKPhUMZkkhMIS9bkKWcGLgO+vtApcfz300/\n",
       "JWtDpS9h5EF80KCENICOFKe9+TSpAy8THVL72GwDvgzPqf6IrnTCeSq18ulstvf1Hwo2WJtLljz4\n",
       "qLfKEuAA90oHwlLtmGmy75hxThj76vcFOalhUGgu010b2gbBE8fd0AYcUO9PzS/Erw7cImXaPsGP\n",
       "FKOXBis7LKg4KXm7vAvfEWL1QbpJ5sqLvhAzHU+veKMuVBuWKLr2ca4OnEUXI5CtibNkTxettNmQ\n",
       "EwWwozAR3kdyb369g3V92A6E5/NgF1JAB3hdWX5H/wYsiVZnWIlrfr69kEM8B4xC8ne6wm+k+AgV\n",
       "BPTPQ+t1AjvtkKR+gFZF665GO5YH7IVH8CKuo1xbOimkfd3HZZWRohrap6/A86ryvMI25eWTRFhr\n",
       "44uB9b4g12uBbrv+JIKwyBE0MAmRDAh4tGba4Lg3+IY6gS4GSGOcIHJURaUdl1BBbkm2ZUu949IU\n",
       "EyLfaN0aUlIu88dsMq2Qpwp9kbPvTjdiLpEVJtkFFg3vtaoqfuyEO7l7gsuixrq6HfRP0ZD74lo+\n",
       "ukSvR0dE4De/0L9+as/sh0Ey3Ve96kadZTHy3FOt/x5KujDtpTNxYpUUSYpbpuYzBKTxOx/yER7J\n",
       "WREOlNPBlDnRZMTRtKprd+PPeeKo9WgGN1R2T0qUQL2PkO0VCgOoj25t5wyPy5OM3IugmfrpmFO7\n",
       "0LpqrcEJ21LjI5ch2aN1NVcZOoav96puQT9Ww1Mw7TtOtlynm6coGhoqEfM1JKFaUzAzQRqqff7Y\n",
       "EHmgsxnMLXxoAWlqy8nxRMbsoOC0E2QKw2svbX0gcrpAsfUz3iQgSXhc2ChWUL4G931OleZ6jYIz\n",
       "2MHUitggxOk9MQknLkHLAKt6gH3hHz4K4Vblr9uQdWpqpcuZF+KUl8dha/E8PLR6KgoysVI5DEgf\n",
       "IY1pYY3qAoIW/Xv0tVw1pv7e8rxtiUUx/iDh+p3OqGx+Fvdux9fPY8e1ebtPjekYDsiYORqTd/aq\n",
       "D3HDvwrzxRaCnucfXxNOjZITXQsdDD4Axhmmg6aMNwRb+mfGyXLQl/iXgBw0OX+QWp4lL7zGmvXj\n",
       "XLAdFoHdZwiUj/lPQtVDOZiBhBa37K5cmq0RQWdUrUdDjT36WtL2EWwlfFI2h5gP29uou0vrq0Rh\n",
       "2h5YAaLwcDc6swOBQ+CADju1AKCtCUOESgAlJWqE/yaapK3QFCNcWEb+f1UIMb7R8apf9IBLiS8u\n",
       "A63GFP1CF0G2+5Z7ArYlwfysiXwWKt+IVYMvdi6dC26pEQ8g33YTwjByYejp5pJzBFriWkT3O4b6\n",
       "pjPN+K962I9F9/bZWHTE2XSgA6eobJLLvSkP1ZQ9DKbsAI0B0H0Ck+LOOjqfC60gtxfH0SICOo0S\n",
       "WSpST+OZyr/vkbUw/D2kfqNWj2+Den1Izh9gQt/+2dNeu73Yq+ID1QjSvcxm+PIMnV5sZEF5dvwW\n",
       "9S0kiAjjAJVu+84kizdbMYTpp6h+THHXKBNLaG4tlZwpIiiEtukqx3S4p8fqwVO+uhqqnURITX8T\n",
       "s5WgZcREf94l5oxZYHO5/GH9ykZrbSAPqbqfHuOU6qDDrqzrUsW62X/RrYAjxIYPGRH2c+AJSEUj\n",
       "AdmWzhkSCs0pAQAddMIwh00edL9KhAeeO0Jmf/P6q+JqGcjq706Nw8JrkrHGvo8B1JuXFiabC/L+\n",
       "jvZPo/0mTC/P0DXzcaBcl5eYxJ8bgSHX7G+lQ8nNZFk/b//Y/+zZ81lBPf1VcW12e9wF1T7TZI8H\n",
       "pF0KmAET8xeS4ryRSdHKLbmFtoRFiQKLYdoMtx2x8oUW2BV/2AtDuFOMEY1LXkDKqjxD1mkG5mFA\n",
       "s5mz0OgFIFOwjoFtqi2HPOYkjkc46aXl/anri3lX09CiFWD7l4Uv1ieZxpFRetgpvRgjlFKnWq8J\n",
       "ieGg/FYErKl8RL+p6jVmTiRMYMlR0fZ8oNXajlNNTmY8Ivarm3frWL4BtxGkXaN+k0VFwbPJ9xRf\n",
       "TAQHOldKXCT1DlnLQ0F/0gscNdnxTxjrqlSAVkEDYkEuX1b63ksco1iKNVyHlkf71w03qpSrtJKK\n",
       "736WA/i1TwLYeYyqaRzLniDSR3NNH1eqSx++24Dn73c++n2b+7cyTN54JTByVnxsUjr90dn3cEUZ\n",
       "Bv7Nv/plBXoil/CiJtNScKzkrrm/EERhqvGoZmYKFYiuQC8bnuIHNeT3whQpfsULmM2du59n5PN6\n",
       "cvWCimSJwlh5vlUOP7/DIxcb0NIkvS+yZF+9NsLKKp6bB3eiCApoHDd9eGihC2L79kyc9r/zXWYG\n",
       "lvzLCwM5aUX1wGVqM259bjFJsHB+tlyUaNHQ/cch8vST+PDUA9MmIThKJNDi9qTMglTvlsbKy+ox\n",
       "CU77aY+Kq3QR1hQ/dnMaCYRb1tvURSkTCQL1mLXTEzUkMfuhZ5yVCQP3IF/CwJXgNn+Mb+ZqJFNO\n",
       "LYKR6QRfyoe5pOCq0xo2WsS1PhW4dLtwjQqrvBJFqwKAUBYm22IUkX0JWkeMndB6BSOSZV7aSR7l\n",
       "bZoAB6l18mQBFQAAMcd1AAABpkGaJGxD//6plgAK35wBtiN45wGUXQMoO55X/HL9bC8AT1VCr1Z2\n",
       "5vmrwisqqnDgGMVRygm9GQMO/sjuyka99H6FvvfiGQnMbhD2luVIopmzdFZ+tMeZ3udAq0dAI6y1\n",
       "VWIk3+jj/wsMDp2dLKdJEMiX6LcpUVx1lc31zJdM9eyNuGQmbzEP9gf0+RIDZj0jDhY4I5Nn0H+K\n",
       "1EzgIMGE2Ok+eWLEMftXQDHeLwQwCxp0SNJZhsb2exkLx0xQOKYj4U0B0eqcEZCeeI8RdhKb9BN7\n",
       "wLVxXFlfilWi8GUaOtz5cb9EQTyfjiDjFp9nKoBxEkJKh9tWlDxtaZQ6B+rudBem78XXVyT78XmE\n",
       "HnCg6zlO3g+alzLrT1lPjAT/Oube5vforc5182+zU4n0XPjhaGwEBNB9fEjcNNac4UJi3rCCmHpT\n",
       "4EKAZpivmTL7IJEbGBxNRcD9yNW5DxuLqVIn6LPHvX6BsF/Ppj0VgetuS3hD/0DrZz1fwIW1pS16\n",
       "4r29tzKDLfwCQ08Fpm4B6jvyUQ1qDW6Q4ZI1XRsOBAjMY2m7ge+e3WbcAAAA/EGeQniHfwAFTpRq\n",
       "ey+yIBf90e0Hx2DSe2Rnl98qABi9F/N8Z+yxa3tBk40GT8vSvOlYF0QD+u/xLX2CnIsXxr3Qe+2U\n",
       "J7k8CaHT8Edt2pLvIPKb36FtPOz2dfqw0sjOq6HYPbtdFGtoUuJYI+mGZzzGNI5BfH+1k5nkEWHE\n",
       "8M0+7PxD6HnDPDD2x85VR/4SIY7U6IDl8Ve9/yPrv/HGYD7fvACzFWghFZt4WXi0iZpsDPAhdj9D\n",
       "hdu1camcs84Hf9+fTVmOMqbkSKFwvP9O82vbicZ9WerwhS7fqFuL9bB1fKSNCaG/Ek1S3LNs2c7G\n",
       "mDig0cWujmDZkgziKwAAAKYBnmF0Q38AA8uPdeRsKkK6/pf1U11I9/QgXwZz1vwjzCLxsSqlIYcy\n",
       "MMEFKPR6zZQHHMpmmEwSJGIYLo9mjvBcVbQGvSSYgqAg+0PR3jALuwmeLxEshofusCnMudzXsK9K\n",
       "e9HiMGNfX6d1NumbGuSRtPJzPbDUEyMQzOuWfg9/epTPsMToKZJEN2gIs2HWbXaCw0E2WHbsbuYu\n",
       "Rc3WEqWy+bXFQA4IAAAAwAGeY2pDfwAHmmfniGfou6/S8XkSDfHW9n1Sfev0Y7TqAT/3oEP0pLq0\n",
       "TUpyFdnpSZIJS6WNit5VJIiHjMAw9eiKMd3h6YqH/Idjt0RLrGriy8T3rRapxzotsp1LG2VrEgN/\n",
       "ih4fOx0K9hOlqzPJUsR2ete4ivaL43w0Xpus9cnUscITDlo1mYddQsE1Bz14dNMGGpnbOZ5QWW8T\n",
       "hCMTmR+baGfnrdKKzjZbMEg5utn6IFqVDHzZAtFDZFV8tKBwQQAAAPdBmmZJqEFomUwU8N/+p4QA\n",
       "FqxY8khekBCQ6t5oSynTAMR24A1jFpvpHcM87JzfNHJv+FseNmJbhiNwPWz8Ox4FyofpZ0qRdrvG\n",
       "N+MRE6GDl7D+fAF9FvyRQMjurHr7LgoMxeYIiUrazI8KABRMdzFI7RlCSYSOhlGK4ULGgxDhgnQS\n",
       "sjP0olq88UG0rxi/ydsjg/RMnBBUzSpBVV2FOvYRYl3fyptm8nhIWATcsUtZHJ6C56tzFf+r25nT\n",
       "Q91WkuGDrjtRDRIs95k7vZmBhWIY8Qv5e+3m1Xhbqok/iycbplzpx8S8SbrDNLXQj4KUvzaaKj9V\n",
       "SCHhAAAArgGehWpDfwAHlMzNcQ/XSJ2GNCzipthYUgTlxUEyiBdjjC2j73v+4AaCfdLOetD4B6ar\n",
       "I7MQA22MTZldmrqSfXKppJeHKYhnyGTjefhzNNoKprMCwCbDA37bBRbjX4/7/gzLkBGKv1TBAg6X\n",
       "BBAb/EpEZm0pEBZLRHRj0xrY/r4mkoSHwEEywE7sEWnU3A+4aZbGWr/idplFkw/on67EHwG9tGN9\n",
       "YRTQAtRu3qygoQAAA4Jtb292AAAAbG12aGQAAAAAAAAAAAAAAAAAAAPoAAACvAABAAABAAAAAAAA\n",
       "AAAAAAAAAQAAAAAAAAAAAAAAAAAAAAEAAAAAAAAAAAAAAAAAAEAAAAAAAAAAAAAAAAAAAAAAAAAA\n",
       "AAAAAAAAAAAAAAACAAACrHRyYWsAAABcdGtoZAAAAAMAAAAAAAAAAAAAAAEAAAAAAAACvAAAAAAA\n",
       "AAAAAAAAAAAAAAAAAQAAAAAAAAAAAAAAAAAAAAEAAAAAAAAAAAAAAAAAAEAAAAABsAAAASAAAAAA\n",
       "ACRlZHRzAAAAHGVsc3QAAAAAAAAAAQAAArwAAAgAAAEAAAAAAiRtZGlhAAAAIG1kaGQAAAAAAAAA\n",
       "AAAAAAAAACgAAAAcAFXEAAAAAAAtaGRscgAAAAAAAAAAdmlkZQAAAAAAAAAAAAAAAFZpZGVvSGFu\n",
       "ZGxlcgAAAAHPbWluZgAAABR2bWhkAAAAAQAAAAAAAAAAAAAAJGRpbmYAAAAcZHJlZgAAAAAAAAAB\n",
       "AAAADHVybCAAAAABAAABj3N0YmwAAACzc3RzZAAAAAAAAAABAAAAo2F2YzEAAAAAAAAAAQAAAAAA\n",
       "AAAAAAAAAAAAAAABsAEgAEgAAABIAAAAAAAAAAEAAAAAAAAAAAAAAAAAAAAAAAAAAAAAAAAAAAAA\n",
       "AAAAAAAY//8AAAAxYXZjQwFkABX/4QAYZ2QAFazZQbCWhAAAAwAEAAADAFA8WLZYAQAGaOvjyyLA\n",
       "AAAAHHV1aWRraEDyXyRPxbo5pRvPAyPzAAAAAAAAABhzdHRzAAAAAAAAAAEAAAAHAAAEAAAAABRz\n",
       "dHNzAAAAAAAAAAEAAAABAAAASGN0dHMAAAAAAAAABwAAAAEAAAgAAAAAAQAAFAAAAAABAAAIAAAA\n",
       "AAEAAAAAAAAAAQAABAAAAAABAAAMAAAAAAEAAAQAAAAAHHN0c2MAAAAAAAAAAQAAAAEAAAAHAAAA\n",
       "AQAAADBzdHN6AAAAAAAAAAAAAAAHAAARQQAAAaoAAAEAAAAAqgAAAMQAAAD7AAAAsgAAABRzdGNv\n",
       "AAAAAAAAAAEAAAAsAAAAYnVkdGEAAABabWV0YQAAAAAAAAAhaGRscgAAAAAAAAAAbWRpcmFwcGwA\n",
       "AAAAAAAAAAAAAAAtaWxzdAAAACWpdG9vAAAAHWRhdGEAAAABAAAAAExhdmY1Ny41Ni4xMDE=\n",
       "\">\n",
       "  Your browser does not support the video tag.\n",
       "</video>"
      ],
      "text/plain": [
       "<matplotlib.animation.FuncAnimation at 0x10dfc1510>"
      ]
     },
     "execution_count": 3,
     "metadata": {},
     "output_type": "execute_result"
    }
   ],
   "source": [
    "fieldset.U.show(animation=True)"
   ]
  },
  {
   "cell_type": "markdown",
   "metadata": {
    "deletable": true,
    "editable": true
   },
   "source": [
    "The next step is to define a `ParticleSet`. In this case, we start 2 particles at (3.3E, 46N) and (3.3E, 47.8N) using the `from_list` constructor method, that are advected on the `fieldset` we defined above. Note that we use `JITParticle` as `pclass`, because we will be executing the advection in JIT (Just-In-Time) mode. The alternative is to run in `scipy` mode, in which case `pclass` is `ScipyParticle`"
   ]
  },
  {
   "cell_type": "code",
   "execution_count": 4,
   "metadata": {
    "collapsed": true,
    "deletable": true,
    "editable": true
   },
   "outputs": [],
   "source": [
    "pset = ParticleSet.from_list(fieldset=fieldset,   # the fields on which the particles are advected\n",
    "                             pclass=JITParticle,  # the type of particles (JITParticle or ScipyParticle)\n",
    "                             lon=[ 3.3,  3.3],    # a vector of release longitudes \n",
    "                             lat=[46.0, 47.8])    # a vector of release latitudes"
   ]
  },
  {
   "cell_type": "markdown",
   "metadata": {
    "deletable": true,
    "editable": true
   },
   "source": [
    "Print the `ParticleSet` to see where they start"
   ]
  },
  {
   "cell_type": "code",
   "execution_count": 5,
   "metadata": {
    "collapsed": false,
    "deletable": true,
    "editable": true
   },
   "outputs": [
    {
     "name": "stdout",
     "output_type": "stream",
     "text": [
      "P[0](lon=3.300000, lat=46.000000, depth=0.000000, time=0.000000)[xi=164, yi=49, zi=0]\n",
      "P[1](lon=3.300000, lat=47.799999, depth=0.000000, time=0.000000)[xi=164, yi=139, zi=0]\n"
     ]
    }
   ],
   "source": [
    "print(pset)"
   ]
  },
  {
   "cell_type": "markdown",
   "metadata": {
    "deletable": true,
    "editable": true
   },
   "source": [
    "This output shows for each particle the (longitude, latitude, depth), and then in square brackets the fieldset indices of the longitude and latitude."
   ]
  },
  {
   "cell_type": "markdown",
   "metadata": {
    "deletable": true,
    "editable": true
   },
   "source": [
    "To plot the positions of these particles on the zonal velocity, use the following command"
   ]
  },
  {
   "cell_type": "code",
   "execution_count": 6,
   "metadata": {
    "collapsed": false,
    "deletable": true,
    "editable": true
   },
   "outputs": [
    {
     "data": {
      "image/png": "[encoded data removed]",
      "text/plain": [
       "<matplotlib.figure.Figure at 0x110726350>"
      ]
     },
     "metadata": {},
     "output_type": "display_data"
    }
   ],
   "source": [
    "pset.show(field=fieldset.U)"
   ]
  },
  {
   "cell_type": "markdown",
   "metadata": {
    "deletable": true,
    "editable": true
   },
   "source": [
    "The final step is to run (or 'execute') the `ParticelSet`. We run the particles using the `AdvectionRK4` kernel, which is a 4th order Runge-Kutte implementation that comes with Parcels. We run the particles for 6 days (using the `timedelta` function from `datetime`), at an RK4 timestep of 5 minutes. We store the trajectory information at an interval of 1 hour in a file called `EddyParticles.nc`."
   ]
  },
  {
   "cell_type": "code",
   "execution_count": 7,
   "metadata": {
    "collapsed": false,
    "deletable": true,
    "editable": true
   },
   "outputs": [
    {
     "name": "stderr",
     "output_type": "stream",
     "text": [
      "INFO: Compiled JITParticleAdvectionRK4 ==> /var/folders/r2/8593q8z93kd7t4j9kbb_f7p00000gn/T/parcels-501/218f0b1f004549f5b8077878203091fd.so\n"
     ]
    }
   ],
   "source": [
    "pset.execute(AdvectionRK4,                 # the kernel (which defines how particles move)\n",
    "             runtime=timedelta(days=6),    # the total length of the run\n",
    "             dt=timedelta(minutes=5),      # the timestep of the kernel\n",
    "             interval=timedelta(hours=1),  # the interval at which output is stored\n",
    "             output_file=pset.ParticleFile(name=\"EddyParticles\"))  # the name of the output file"
   ]
  },
  {
   "cell_type": "markdown",
   "metadata": {
    "deletable": true,
    "editable": true
   },
   "source": [
    "The code should have run, which can be confirmed by printing and plotting the `ParticleSet` again"
   ]
  },
  {
   "cell_type": "code",
   "execution_count": 8,
   "metadata": {
    "collapsed": false,
    "deletable": true,
    "editable": true
   },
   "outputs": [
    {
     "name": "stdout",
     "output_type": "stream",
     "text": [
      "P[0](lon=2.024544, lat=46.088627, depth=0.000000, time=518400.000000)[xi=100, yi=54, zi=0]\n",
      "P[1](lon=2.017195, lat=48.305283, depth=0.000000, time=518400.000000)[xi=100, yi=164, zi=0]\n"
     ]
    },
    {
     "data": {
      "image/png": "[encoded data removed]",
      "text/plain": [
       "<matplotlib.figure.Figure at 0x111181cd0>"
      ]
     },
     "metadata": {},
     "output_type": "display_data"
    }
   ],
   "source": [
    "print(pset)\n",
    "pset.show(field=fieldset.U)"
   ]
  },
  {
   "cell_type": "markdown",
   "metadata": {
    "deletable": true,
    "editable": true
   },
   "source": [
    "Note that both the particles (the black dots) and the `U` field have moved in the plot above."
   ]
  },
  {
   "cell_type": "markdown",
   "metadata": {
    "deletable": true,
    "editable": true
   },
   "source": [
    "The trajectory information of the particles is stored in the `EddyParticles.nc` file. It can be quickly plotted using the `plotTrajectoriesFile` function."
   ]
  },
  {
   "cell_type": "code",
   "execution_count": 9,
   "metadata": {
    "collapsed": false,
    "deletable": true,
    "editable": true
   },
   "outputs": [
    {
     "data": {
      "image/png": "[encoded data removed]",
      "text/plain": [
       "<matplotlib.figure.Figure at 0x11127f210>"
      ]
     },
     "metadata": {},
     "output_type": "display_data"
    },
    {
     "data": {
      "text/plain": [
       "<module 'matplotlib.pyplot' from '/opt/local/Library/Frameworks/Python.framework/Versions/2.7/lib/python2.7/site-packages/matplotlib/pyplot.pyc'>"
      ]
     },
     "execution_count": 9,
     "metadata": {},
     "output_type": "execute_result"
    }
   ],
   "source": [
    "plotTrajectoriesFile('EddyParticles.nc')"
   ]
  },
  {
   "cell_type": "markdown",
   "metadata": {
    "deletable": true,
    "editable": true
   },
   "source": [
    "The `plotTrajectoriesFile` function can also be used to show the trajectories as an animation, by specifying that it has to run in `movie2d_notebook` mode. If we pass this to our function above, we can watch the particles go!"
   ]
  },
  {
   "cell_type": "code",
   "execution_count": 10,
   "metadata": {
    "collapsed": false,
    "deletable": true,
    "editable": true
   },
   "outputs": [
    {
     "data": {
      "text/html": [
       "<video width=\"432\" height=\"288\" controls autoplay loop>\n",
       "  <source type=\"video/mp4\" src=\"data:video/mp4;base64,AAAAHGZ0eXBNNFYgAAACAGlzb21pc28yYXZjMQAAAAhmcmVlAABaz21kYXQAAAKgBgX//5zcRem9\n",
       "5tlIt5Ys2CDZI+7veDI2NCAtIGNvcmUgMTQ4IC0gSC4yNjQvTVBFRy00IEFWQyBjb2RlYyAtIENv\n",
       "cHlsZWZ0IDIwMDMtMjAxNiAtIGh0dHA6Ly93d3cudmlkZW9sYW4ub3JnL3gyNjQuaHRtbCAtIG9w\n",
       "dGlvbnM6IGNhYmFjPTEgcmVmPTMgZGVibG9jaz0xOjA6MCBhbmFseXNlPTB4MzoweDExMyBtZT1o\n",
       "ZXggc3VibWU9NyBwc3k9MSBwc3lfcmQ9MS4wMDowLjAwIG1peGVkX3JlZj0xIG1lX3JhbmdlPTE2\n",
       "IGNocm9tYV9tZT0xIHRyZWxsaXM9MSA4eDhkY3Q9MSBjcW09MCBkZWFkem9uZT0yMSwxMSBmYXN0\n",
       "X3Bza2lwPTEgY2hyb21hX3FwX29mZnNldD0tMiB0aHJlYWRzPTkgbG9va2FoZWFkX3RocmVhZHM9\n",
       "MSBzbGljZWRfdGhyZWFkcz0wIG5yPTAgZGVjaW1hdGU9MSBpbnRlcmxhY2VkPTAgYmx1cmF5X2Nv\n",
       "bXBhdD0wIGNvbnN0cmFpbmVkX2ludHJhPTAgYmZyYW1lcz0zIGJfcHlyYW1pZD0yIGJfYWRhcHQ9\n",
       "MSBiX2JpYXM9MCBkaXJlY3Q9MSB3ZWlnaHRiPTEgb3Blbl9nb3A9MCB3ZWlnaHRwPTIga2V5aW50\n",
       "PTI1MCBrZXlpbnRfbWluPTEwIHNjZW5lY3V0PTQwIGludHJhX3JlZnJlc2g9MCByY19sb29rYWhl\n",
       "YWQ9NDAgcmM9Y3JmIG1idHJlZT0xIGNyZj0yMy4wIHFjb21wPTAuNjAgcXBtaW49MCBxcG1heD02\n",
       "OSBxcHN0ZXA9NCBpcF9yYXRpbz0xLjQwIGFxPTE6MS4wMACAAAAKbGWIhAAQ//73gb8yy18iuslx\n",
       "+ed9LKzPPOQ8cl2JrrjQAAADAAzdiJ7g8K10PRXgACB3YTziAH/EAyJSMFJNLwn+57U+SKi1Zyum\n",
       "orMVi4Ijt6LVM/HvFc48/2L6vtHgk0oovwRLPlgQtllUofIhlFFxQWXrPdo81X6zUBXQKHiLGeBZ\n",
       "rRtqLoH75kEUddBzAjYvB5khfAfNhV71t8Pi6RRMcLgwZSx4ybL6GegZZP1KwgkWnDqAYQyS/gy7\n",
       "mCcwAaXXZ5PNfiJ3GGEBy4MZBVUmMfyUunljQ7Crei/SO5uj3hi3Oi8uPneTGnVTtP1KUdIUWshI\n",
       "QHe2FjtxGgJVuhK/CBKxjSJNLeCkCMt1yOC+ZzYbJ5clrgdUdBQyBXwAH7RQwxqwATDFeSftMmH0\n",
       "R0M+Iv6hCcaorez02+enMzNDil3kQfC99vuIrysxfmbY0Q2mJ9bhhWozLEzYnK8GdXExrxT7uBoV\n",
       "8w+HNGW1X8O4zhLgtEw4LNNAAwOQG7Y4q8j74sPV4+CLHeInzEwhn6yZGSsrwH9F83/I7D6EwE17\n",
       "e66zHvD9tidtYiLkhFEm674NgKLUd0K0vQy3UDr2V1sHqf/A2SwyCp+UwIW+5SOnVylIYieu497W\n",
       "r0hwtrxr6ZzZTkdKPNiNzcmOiu4pSPAFlvaDBoJQFJe0sAB+ITj0bJSVRU1w5vDUz47wsb/qiKR/\n",
       "h9lM1rE1PZt3zHH+SpTd6V3/j98ZpotutqEoFn885OdyP+ytFXKEdb8jA0R+fxvohnmrZbQBh4Z5\n",
       "auVTw2UPJSbdZZL2ahZLlSjN+/5k0e+wDV6VoNcLX3U2z+OGm8IWBZgLe51PObNZ5pz8sz0bnzLl\n",
       "+rH4LoIRP1VA4yVlGGD5W3OglqgSDDBvHPltuZT0GtfV00YkdauiScYh0QUumyjdl6zD2y4kk2Ft\n",
       "IJKIVINS7/3oWvTjFDVQ59sWSRhKgt3DKGahIe/TWmqi15SJbUGS+9WsBGZw+/hKK2W9+6NNhkGX\n",
       "pfbl4ySc6DRgkUaDcsKSSHls1HOCqZvLs/IhT9AcTMsvwy/0XQsHHxq0y0W+ik9nKIHE6nLeqI4g\n",
       "4D/9XmD0oTV0tx+7QDZz/wD5+zE3XTDHhbkCIkfTxfQ7ofx39qDExijeil06t2m/X6ZwAu/GQBfc\n",
       "idmnTPVxSAYO2DSjocIywJgrLzKOVynedwf6n/EpGMBbLsaWaAAmT+C4zHnzkcdvHHPMOnWCjxDp\n",
       "2v26Huxh73z/TiVdnkYu4Twdy0ZVhZuJm0XBzns92tvpqVk9rpcJUArGVgXI+lhE1CvR7z/zyYRL\n",
       "jOxh9kdfSiTTItelodIC0KZ0BDTKg6Aj23siB+Nt2ZgVKjfA/kPbdg2fADmupNouKuJVu3hEq8Ju\n",
       "G9VoXv6C+3hbMYCyVYC7IlqpF5kGxp8gBtmSCFU4nQhbi0qf3sY0jNC/Uy9o0D9u23agjpCV+HiI\n",
       "JIzhhV1W84cZ2XJaxq0TxQha+BTQSnp176mJWayoo7z+lm+Bt0vSUN0UCeB3gSy0U98SaWrhIZ0R\n",
       "hCSzDuhig9joOmuIFoidaQ8yOwGykX+3zXXzhdEzTx8UFym4OyfnDXDn/KB/DtvP0YLZ1C7p/7HP\n",
       "XrvKfJ7HB64OTpi9MBnr31h3SFQ5hxSJkIqAwA1goqpWjGgNqiKh/0vqzyTgAbR6AMc4LHvHO7YK\n",
       "snLg1L8eV7H2dcSDwnYzDLpK4GVmnV6IEwac4sGluO/uLaq6MWtZTQ33MKukVkFgJBObx1MK4DKV\n",
       "/mUyf9jpmbm3vMZX4K94vrLLgB4ylP0+AaroPh0WwcD6VyoqOEUXeGmsR8ULe1kNNcngMHP2P70/\n",
       "5KOOhDREO3Yb5w0EZW7Zq4lFtmv8Py7wvOEYrbKftwAe+1MCLr3qJLfc33XopkRXvvc5tgAATrpz\n",
       "GGu9BtV/sQAXNsUZuD7MEUqyefIZflMpzWGH/8LSJmJj6QfsO35pM4nyG+bFSM6byBXAl2tnvtv3\n",
       "uDw56dn8NP+CBsMe9qWbEBLKBvqzrx8fvaQiPNjlIerg/Oe/dqi1r//tQQALvn499YowZ2/axeZ1\n",
       "Dg07w06ddeNkoOsPhh/O8GvD7C3jW7X1nZ1woWkAKo9Gu/v/jWr3+MLlyzrrVjBu/59NVsKw1WDp\n",
       "vn/ZuCPoPF8Not2IvAAE4QpyCoitqFAEiqHoo9t9DC9FPpGobHwSow29BEu7NMEAXMgZrLWapDdw\n",
       "zhs6b4c910CXK4+3Y1wcjCtsrhWb2//Ze4KI4kKpWqisBOImrycnvf4EZj3V5WiNW9kdQIMwcUZh\n",
       "vlTJAycI3SCjUiI3dXtmd/HQO6rpxke/+hdouM59jpH8/DXO/Mi4ahs8TUBCZFIM8j9nq5FCHDGL\n",
       "/oTbxlKfsahyjek/wZ8EitjpShSI475x+0KoV9iEZiH6vZ1YS1sKyVm41ZcoJ3tE8996VBk6Q5bi\n",
       "4UqCFhxPd01WR9DvNTCy5kTU8VrHoYtof0qJF44Ieif27038Q5no47oHDlB0Em3uqkK5UzotJUeJ\n",
       "fn/FqxQcH0LI2nHuXJ3UGO+L5m/0VSGuqCiiuKAubPkmbxMkoS+jp46lJzEKGU+oFu5bg3uj1IaI\n",
       "mGHZMGJ8/seiwQQ/osGIV7IrTfb70wHAa7lsqpOOGyj7uZDO4MkdYLzzGrAzJssa1PQ7IuKK2TX/\n",
       "BqDDW49uMtTC7unUyTzCy636sFGV3c3egaxWpJN8l6XOcRPIf13r+NsayoAWSZAo0HLZpRZpp2dq\n",
       "j/DOWOptBfwRIS73Kp1OAUP9zzGVpmJasy0TOmftR8zEo5XhIQQ35I0GDb/vJbcGhFF99c5Cb1/W\n",
       "XhcLwauPbt4kQphOr+P4DkfhtFxZavuPtU/Q7Jedzzh9ea5v7PyTbX/AqGI2/oUQ8j0pm0KJoV2b\n",
       "Z4Je2W3Ci9FnPQjitHUA1qtuebSU7uxo5fW1wcgj96qMRhPIVi+0h92v6TJdUBSrtBbORQ1Q9mO/\n",
       "jDrfTeqWZerm/xXHXMe3bociwDA24SSzIRbusqergS0WULx/+vgasRj7Y5GoLZ+pIiJODEwG5bt9\n",
       "GWt95bbYLqh2PCnGpe7NJJMCvTipRGt2PIz/5iYvRm8xuiBpbNnEbeDExIc1VnLyjpNes5w3Ucba\n",
       "vGym18lSNqnu88wmS69U3Vd1W/zo3VJwfYo8e2BZshqnF109qXZOFh2EmrC2TI+72daumai/8a84\n",
       "KjgmTdwWZgmTAkqVAYtHJacrNGYr9nf/kREHfUTHp9pPwMd7slu0tgsjitIQe/YX1/agw0vAD1hj\n",
       "7x7jmIBZiRYmwGDVaVh4vNyUVTx36xangn81FRgfwIvlrnfM7MZwH0r75Afh+/VyoFr2dSN6urGx\n",
       "SAqHRkPS929YLNGEjKi16IhuigRSV7MD3sQuP2Yi5y0T7m541q880yhUop7EYX84LkZvZlHxfONj\n",
       "z1s1be4pbzaOSLLgXMUUnATrhc0+BPJZs4Jh+6t0QHMLI6C/R6nyb2ZGMmT5hMz8nX5C++lEaPx3\n",
       "jF1UOY61OuJ4u8MGT+MaYcrUw0lHzTIEYBij19UAAAGtQZoibEEP/qpVAB0m7QwBQbtWsS9JXs4D\n",
       "3VveuU36mhE/h8xWtJ85JitIuL+IZRL6DnX5jdvmlpcIpu09CgbxO9hnkbURYSGeg5Rn9ycBfuZC\n",
       "B9W6Q5nqFn/THN5wWTk5sHQpx2Xeymg+BFxgUg1V8Uq2+T/l/idNEaurlxhqilxoxi4SwQ/oOwvV\n",
       "54KbX7m/0HGXBEBTo/mfJVWab5dVKn/j0bfaYv0oAPwvPk5tmxaLz4vMRfpRlRneOpt/pa52RJsg\n",
       "NrkCt7Vr5+LH31scJKNGsOLphHlLQTXDcUTqH2TfOEL/nCLip7IN+fpqbelr33giNkrnRALnLAYS\n",
       "XW64AXtFvJHSCViJjZwirnYjqXAoAawfpOfR8xex47jPLt97XPX/E7g1cqnH4Iecd8MJd/d2RsiG\n",
       "+u3cG/Yd4o+QiD1MW11p5PXfq1MUpGFdAZzr179rBcaOLqH0eC3/HZstsRP6w35lkVYjooa57X85\n",
       "YkASq0Vc5/yfdViuaPmb9v0myadQuqL4z+0UfAaXFSLt4oPgRzYAx/Jxu6ci3ei2Jz5WvYuIT1fN\n",
       "6LZh7wcOAAAAZAGeQXkN/wAL6zM67YH79gogAnWLKO7p2dyCxBH/DRja0P0m+3mY3oW6f8n+x+cr\n",
       "p079H1JtLTbz8Ts8BgJCrSI0hD00newgQhkednfUSREq5r1aKHWe9jaggov3c1SK+Tqpz8EAAAC8\n",
       "QZpDPCGTKYQQ//6qVQAEQN1UdX6woOUsAApby71c/ln92r4kauA/aqq2yu+KJPAL7TVW+W0e/otJ\n",
       "rJdyVPcbzR9B0F91TmFtBZvinrW+Wrm0MAn79/rr7dCcjIEv029UhP4fvmagSF+EVtYj5+XcGI4/\n",
       "ac8zN9HO6oJBVNdYKrcI+sI1MoEHzc4YtOIpYCggMSbbOf5vGs631c/XQqBsfyuQtBE5/FNYTsTF\n",
       "HFNvJ/fnt1sHDuulTOl6y/AAAADKQZplSeEPJlMFPBD//qpVAAiPLn6Oz/brYAHQqwUdfTEHNeDS\n",
       "UXFTVzivGcVEiA07Xd7O3r5xZ/w+ZRHnv+1rLG9pftSyVdLnoPPE7AaU4S7g3VwO/ju5qaeow4ZL\n",
       "MdYrXW/xfF5cTs8vz6lPs7w26g0qavpu/QOuexcUdv6aN3mcBgbwSpu+UEVEq5/y1/HpGPbEih7j\n",
       "+E66qeXcshETgvxZMXs23RNbfX0n/V7l+DjFz76C14hxbJHEfq4fMCzbO0ShEJbiANebTQAAAI0B\n",
       "noRqQ38AGILpFSDzTnl37G274ATTWs1tyRDUec2ppCNocvrIXEM7jywT0lKj64vvo03gHk1VwT8L\n",
       "b9HRDCBQYR7jyWbjG3LmbcPzQNfnRaRR/YmOQ3SYqf+cKtILwh2PnYS7sCaL10QcTOywnOCGkXQL\n",
       "d32loqVWKONpWTXFM4dNZDZpCV6NBV68sIEAAADRQZqJSeEPJlMCH//+qZYASnlf+EDXEACH7Tsr\n",
       "WSeYOa8Gd4sVO2rIUg0+SpsFxmRmaLkTd9jpnXgm37/GIF48QiryAGdCJV55ikHR+STm0c0W9ark\n",
       "BPIiAJtmxttPFlJ99h3OTtVC2nrV4xuv1FAq7xUqSAC55lMYKiWC9kVWmoKchTK/HLZSHfqgwMTM\n",
       "+4T5lD35dsw1hVaUEWmxyRJOvYWYQs+RWOFi38bJmVdafdz9M2bJTIQi0zLAQt3OvJfVZzBp/YV2\n",
       "RemC1VdYWS9mzsEAAAC2QZ6nRRE8O/8AJRH9epmsZKS6C1W/a3ACBrSU4txM/MOxlJVWzqRUm/Az\n",
       "ZV7qe8UJ2HYWi1DhI1psJhHF/9OnkfXmRLnECj4pVYuxE3A7Dymc0ppfw5rhFoGTr5M9JUrxoOQC\n",
       "1qUhR1YCP1LmmKUNTlsKWDZqsGOAACpen3uj7BZsGW5wZd7HJjEt/4dCsuVPyB++1yZni65g4Q1n\n",
       "919st0X8pEayIC4AAMN/7q1C4gSHydGnFdEAAAB3AZ7GdEN/ABkkJipOwm+wfULR2poKj84+NzgA\n",
       "Wwe+OuV5IxiOoMTo6haH10tKBe4NUHVWSd5TD14WG9ozZUzc1HoHNNyAMZjBG+7NIq206LbqI7ju\n",
       "zmbyy5k7oI+pHWzsZluhV2DWjc9l+QI3ijiCGLFO3AvSMuAAAAC3AZ7IakN/ADTFv1f4KPDcAN0P\n",
       "mcnyugepO51VphReFlmsw+iYJPEB764fzdzyqUgA4/lSp+JjX6caLian3WqD2HjfaQPZUZl7MZTR\n",
       "RJKze92dCw63yYDkFbO6VVTPNJFaSaffD2qVhVLK7Z1P8iVk4vmv7xnz08eIIZbIoQDXJ3xpyzU/\n",
       "nAUWwoMD2r68BBZJF8dlHacLGkL+udUU7IdwVYgxPpLw+6UVhtckACjO1PiCviWhem70AAAAiUGa\n",
       "ykmoQWiZTAh///6plgBMeV/4//CsQAHQgfxs0+3m8Jz8r3SaJT76XyCcSUW8ajKk8TjBoQj3DF4O\n",
       "XWBnlIdMR+XHmhDV+W25R57EiyahVQ4tN3x7fmriIr+U2jf2PBtrQfDDyg1JAhas/Z/axDWftKMD\n",
       "EmYWv2y6gUSa5f5h3i5vSNQqgV2hAAAAiEGa60nhClJlMCCH//6qVQAULhv9cFdyeYAGhK8DO0RL\n",
       "YWlanMt6HR9pC2BhSIDyVeslEgQItX5jhddU/nWQ+A/PwKOJNnOGa3RmajAFexPEnVxe8/VWCkH/\n",
       "Y0EPVWapG2TSemVF+oX1u4yGkMGF8aJLm2WMT/nCRrycbaUa1k6QPR7Xol5RCyAAAAB7QZsMSeEO\n",
       "iZTAgh/+qlUAFL4b/XYSOKQAMqUiFofUKm00Cf6br9stGnxfjXlGLqdbCmkQtlXP6n0zoFeEM2pL\n",
       "NERIsco0sg2p5BOaTsWLpzBJIqPXf3zdHFoXToOp2H+cg/+d+SWCV5Mx2KZ0Z+LEsK9eKTwRTEpH\n",
       "P5bQAAAAd0GbLUnhDyZTAgh//qpVABVOG/w9hykADnLzjUsjeT+ztanhn873SPeGwu7NhZel8GAn\n",
       "ZxjmJ79uWbNJ7Oj7mcoDSG3r7zXUsQCxWUXDt1TRAyyfYG4klcdj+K8s4hAlcmOjlGqZi6Ta2xY/\n",
       "lpIjOivSjDLYD5JhAAAAxEGbUUnhDyZTAh///qmWAFL+Fcg82/xt2c0AH9IhGb3v8tSSbs5ZHQmX\n",
       "O/L5LhuMHIkpl4t7IUEEvJCl3CcjUKk+XgyOYmecaFPpOxt3UugCH4LLXKFunMM7iNhIkY8Cb3W0\n",
       "/2wvm5nXV8u2YSAvaCoAIhQbuyYOLH/xZbUKBY+7CXPNwFzdek0Q2ut7Zv0cFG2kOZxc4W3AwNoT\n",
       "qdM/4HLBqsxJSQktNXQBVEp/FCCELOr/96s4BdC8RgXDnBq53sn7RNkAAABwQZ9vRRE8O/8AKUY+\n",
       "Q5JRNvazRxyo2bgAOg3xet0jcEDRfLwQ3FAq3MQVEwuYltoPK3ycJm5XZ1m0QpjXLvGRby0NFdwR\n",
       "TMYla8VYgDR683LNqFL6LxwDPCYge3Uq4DYwK+rvxnazUVq6ihVr2f4vYQAAAGcBn450Q38AOtg/\n",
       "wjTosAEfIP0GUx9WMQsw2kdSxvWTBq+ArTfOc23xzSFTK+L6skQl13iXcPrNm409t0e9YejvnLj9\n",
       "eNsARv+I1U0ARNjVecQqCQIYzai0EFUbUls6bgei1j8jD6G2AAAAQAGfkGpDfwA3RdnXm4PJkIia\n",
       "uz7Ga78BAfHJLwQe/lABDiGLO+SPGy5P327xDSgGkz5+brlUq1edndXmMRpRgv4AAABgQZuSSahB\n",
       "aJlMCH///qmWACzf1cB4RIw/O+PNdzq2HgK11DMpjUQI1XuaiH93RuC7ViSl+IM4q1uKIcKR8jJ/\n",
       "wSEKSLtveotIzTqLdExva+kQZgD9GBT0mvpbA9w4mWu9AAAAX0Gbs0nhClJlMCCH//6qVQALfzz2\n",
       "gvouhkhTH+ql8PspqcP7z69Cak90aAFvTWCVK4KuJeX4EVpKyKyvYapWK6OjUOC1VD4H1pgHVHyf\n",
       "4+QGhbcXEDxNEVZ7LsXusaToAAAAWkGb1EnhDomUwIIf/qpVAAW4MHTxXk/QDsitfVA66LdDX6/Q\n",
       "AVArJ0SjDH5/8XJqI9AJNpCY7CyumoH1pgHVHyf4+QGhntQzfbhc3fjtF10l52uG0jqjoYRj0AAA\n",
       "AKJBm/dJ4Q8mUwIf//6plgAWb4VxpkgdcPvfX1c9tABotpwHLqnjyr7NbtSCUyU4sA0/BYcutEEo\n",
       "NKFLYpOoXXOiUprMBXojwUOR9Psj42rA3FdfTnPom/2CPva5Fm8nxLWqMjmgOX9Gyl3hXJpUpYep\n",
       "hpmUIk7zdsVyf/bPCJJDIi9FjKaMZBUtusw6NHTNlm39z/u1m/AWBjB0sm9XKIoFA8EAAABtQZ4V\n",
       "RRE8N/8AD7qp4vvtFLmepV2Ij3vaUB/knJhwbACavd8dcrwlSNMFKcwgxARqWZoJD2YfRISH4V1A\n",
       "SJCu9B7Ae6jLJKonmw7f/4eolzuk4CwwSYabC46siLIdYEHkf98OOMIl5Um+Daf/IAAAAGEBnjZq\n",
       "Q38ADy9wtvyvFd0886QtjISnWlT9Up4xdM8tKpwAQ/QRVKXuHDNGgJgYDNV/K1+6Nc1cA6MMMuLs\n",
       "wuXFGYCA9nD5h9Qic9x2A0OsnvNJB69Zy1lhonSZLRfcksnXAAAAL0GaOEmoQWiZTAgh//6qVQAC\n",
       "uCEZWgtX2502EnrDbkn7GqYvz9tB9UIows/ks6GhAAAAOkGaWUnhClJlMCCH//6qVQACqfF0LtS6\n",
       "9JDhABlS9VLYBVj4ypJwbyDhs1yWli+jHRmTTpZkOUa0hXAAAAAuQZp6SeEOiZTAgh/+qlUAApfx\n",
       "eAKc676aSXx1wZ4WtMxDuovHXnOfjyWKD6PdiQAAANFBmp5J4Q8mUwIf//6plgARnlf+49qigAul\n",
       "DtiqonA+S7VvemSm8JERHCNgKYP+4FaIzlUilsULEjZeJgOiZzqOWhYInloFjd/3RHZQZojkjOnr\n",
       "OQnbe9ZQoNQ0Y/tkXDNuL/vq+5CfqwYJT5nq4BXHDfTe2w7iI6mmHAU9lIR+nai6o8BDUaGNfR/g\n",
       "kTa5XQdmlk6Op1VPAihU9T/5sVGSeJ3qHE0yGU2U7quJyANYywcXODZE7lOzkVJCoBSPREAFSuM8\n",
       "rwAlwmTQ9JY9cPq/NgAAAMJBnrxFETw7/wAmsAF3cVJ9NV3sB/j7Srz4MNXl0ADaTMJD/tw4SkfN\n",
       "h/7/1fZpfPjD1iBZX6irgHsRjmzlrVsVTt8qQxwaCM/mSg1FkA8ccx58C8YDoZxmcpxERLg7HsBv\n",
       "6DjCRaxyrYLFhmHuayRVEast/M2RD6XUppOv3Tieghp9Xj0Eu7waShMe2A74o9mf/tOCG1jNKNNT\n",
       "yH4KnAxL0fpVRCyPUFkpBmZtWY3hG0JW9BdwqykG4E/40ptFFsEnmQAAACcBntt0Q38ANz1gbhk/\n",
       "sy1WMNUHTQm53S9u8z6rjc5uQEOBNqQX7EEAAABvAZ7dakN/ADdF2PEKvgN8BOBLazGVJ5YDEbRD\n",
       "PPbr50/U8ABtKAyUDrNvX8gPCZZWVbvwafFrHyxN8yJno3e7dDtl2TI4HAPECWxM93W2mIXE7o3Q\n",
       "vpnBU6Qstox4mWqIWJhctpY3ikXVx+K6OszgAAAAk0Ga30moQWiZTAgh//6qVQAIz1b2g+eHV2Ci\n",
       "Gjq2AAt/ri5VTw8/Q5dovL25uwYVSTRkDOjwJ8nOn1TMhcBWJsblZSYncvi4cUnapgQlG3+f/q3/\n",
       "8WCETSUovWhpfPf7zwx+Fzmb/7UMD3fZLQqOFEQhZ5FHcIr0LIvwCn4NI7P1BPhRTAMDi5sLUeTa\n",
       "Nsl2sC+F6AAAAH5BmuFJ4QpSZTBREsP//qmWACMGH0aIszgAD7ATuh/kaXo3+EdM4AZqh5hYlZu/\n",
       "t2Htk6xiCZrdFxdklPStC293d58ThF9qpBz2gA9EJz5YcCU8ZafBdBennUyhLRgpIVRTOznVtztD\n",
       "PPdFy8heWskWJ6q224FIx6uPMHSrCsEAAAB3AZ8AakN/ABki6TJMHiO8bS7OmlfeDgP/xftsyALD\n",
       "7vmGQiGF1FGJWLj45Pyz78jg/+EhfRPGKqAl6YNCcHPfb6JshRzgHpLnaX1/BZ8tSabHdAtPtEhR\n",
       "kRk48DJ5ZWAb5x6seoGKSYOz2244sgI7EspxN5iPCbsAAAB1QZsCSeEOiZTAgh/+qlUACQGtZOAE\n",
       "aQAAaV+yCbt+d+XST90NLZ2wN55D5KVrZkHh8r/xaWX7Bj+ucXAG2OeDAR4WrpxUs6hdMopm2fhT\n",
       "5yI35KfIxy8iZ0BQsa/cYUdLO1tCpL8hql391Kv8wzHxKohHaWnLAAAAfkGbI0nhDyZTAgh//qpV\n",
       "AAkCr2EiHERfNPp4GF8KJdnIymud6PLgAyDa5uUXEqTrY7xhXNijkXsAxBVtQAyw9firDodcVO3v\n",
       "fWu8xIr79qq35RPNWVJJ/J8VPkYPgaHN0wk1yOhIUZKyLacSPiBG0+RKezBfByLA8uAfi8vkTQAA\n",
       "ANRBm0VJ4Q8mUwURPBD//qpVABMD/6gAnb153x6d86NJxxXzONj37c4v+Dy4DayP5eyBrYLuOOfx\n",
       "R67GNC2fle9VWR4200nFKlY2/qfPF6idIEyclnGyBrcwU3nKt101wPoDk/cO/akXGENt9pFRLkcs\n",
       "uhdImJs3Z1LhRfz61FpF5nXXovcQztJi9ZrvGH8/Yv86ZzLOSXfpvmSj+5Aw5iX5gv/f+D0LXC4c\n",
       "jQ59WYALJqNRyqzxTXfdYXqwz631vrBu4EdWqOEl39Dk1Elt9q4s/EzFgQAAAHoBn2RqQ38ANMXS\n",
       "Y/O+z12e9AtnCqQ6VMUrKmF/OAnuAmD8MR5YcAJq95koHWbevdBMkcg1RcPa4Qthj+kmuRaM7Q6U\n",
       "/nYZJX4jMMcRqRArXe3atKSvJP1MqAJ9NK0whwapPR5p9785wGVr0/uIHvwqOFtJBQLwcTveEwAA\n",
       "AGpBm2ZJ4Q8mUwIIf/6qVQATHlz9gnvPMAC4ZZfsGP65xcAbY54MBHhaunFSzqGLnVvAFmfvYBNW\n",
       "+oiedDXSqrxJYoNuMxANNraHv8O1V7kT7PrS68aOXqOrZczXDHkkMnSUHl3HhWm+PsiDAAAAZ0Gb\n",
       "h0nhDyZTAgj//rUqgAnPMskRY+LjpWACpiMmuprvFE5tHKtTbjMaJdp0XI9hXXjMmlv6GTmk/sfv\n",
       "yDZCZqfFfSQk50OAp3eM+PTEwRv1VsO3Uno+gPV+7/YWkwT9WOVEJfD7yuEAAAC5QZurSeEPJlMC\n",
       "CH/+qlUAFm4b6f7PCP6ABotWXFMVi9ijfoGlKuHys7Xdmv9EEu9fCQNGARM/HwxfHrKWiCjMr31U\n",
       "/ag2YG+TJMEb522GRTyzdbYcfbqkHWmbcKZGbduNMQpgdpvhdigJfEUhC8qptzjJbF/h+KjQmJqi\n",
       "+IJzqMLrbzAGATs3ukbWTa5rRgEGMpClgUYxHE+81hHUX+HkcaTBxOms03XxGkJ6Lrl6YX4Q6FCX\n",
       "39xN4FEAAAB9QZ/JRRE8O/8AK4q9duF/CplsgBLV0ABXCflp24pqHtUJ2f+8+/FAyxIbttCL24x7\n",
       "VoqdWJ9qFIHtn/JBQSxlb0Lbs9VuJ8nMCE5n/OA1ldwabsFlE37eOkLK+4dlAXkTHz/Lg3095Ivv\n",
       "PnvFHF8cGJl+x/2rSel43Xv4DdgAAABjAZ/odEN/ADoHlq/wnBZwAI+QjJqxXz2vTl8zY3aEEjMi\n",
       "NMDqyYH4kY8+jvfCko1i1KPzcC9ttkze1hzYeG8Z+trjWJGyS3p1b/Dyjqd9EEheINAHrPR0SOdU\n",
       "uEgbPCo/uaWXAAAAdgGf6mpDfwA8xOvXy5Lrk2AEzIfTNAsK2rdsmFEVKQoWV7+oMIw2aOnmnU4x\n",
       "HrieGyT1OHZD3K4t5iW1vTuX1e6TOyTSVwCHh2mNt7s3lXCIZ1wqNYJ4pKDcXFmi4zMUZZlrRuWl\n",
       "wKJvsMyhVt58lI2i312kVcAAAADAQZvtSahBaJlMFPBD//6qVQAXjhv8HNgQADryUoCPQeNCGm85\n",
       "ICJr6oxZ1evBreJ+7MHXqTCPkrFcQMein3funmfy0rLy256hUYFEU/gMJ++Gj+PGMevDVpSPZ+sL\n",
       "HTaBRLYcpgwojrCYUmI4hXBs3pKNLVjoK7LqNpUql+HwEMt9x0HVIM8ZT+OBRRagK7DlNyhY6EBX\n",
       "Dq9w0rcHAPOTVs1pniuzrf+sXojaq7QP8XeO29WBPi/pbht4hQbQ2WQyAAAAqAGeDGpDfwA/hOvX\n",
       "8XxhsOAAf0g/ML/IUn2MAW1jGHMHvnXnuu1nCoFf5scfJvjdhYWaMkCjdZXsEv1Wq4+x+6l74iwi\n",
       "IMXo2o+4au0NU41mbLh7zU9YuBCmLW1a5/x4NyXPjwBc/0m3MgeevgZ1G+6KUDNHUS3cSFUzEDoF\n",
       "WriATuHWrOfLkCZWubVbXGbKsQ7/H+WZzAXN6rDbSyg3/6rMldZ9PPb8aQAAAJBBmhBJ4QpSZTAg\n",
       "h//+qlUAF4+L16sNQuTgaGNXF1lABotsvs0RgrfjDF7unlfUWoU6IB7igir2LG+J1OEWqooZ30OB\n",
       "HYRY38StmMqLYuH4vatJEd/tdw5wHhvFEtSvuVkAw67gV17IxvmKmljl4c5i1XFvQ5NRV0MPboTC\n",
       "AQRLV4iRbnNWc7tifzbWn3H4HW8AAACMQZ4uRTRMN/8AQY+yAodyXdLUNkp24S/srmKv0fnpJ6/P\n",
       "ACQINKXDEIJwGVK6yExQyMVECz2kimg8oTML0v+GNunXnJgdhRxHKAFt180nGzgeu3EYR+VU23F8\n",
       "1uOu2LKmUcJy1WQ/UuDgfPP700uTbwrw5XiIFTBBbPhwQ4QXc86Rkz9PmKEg1LuTKykAAABSAZ5P\n",
       "akN/AEFjJTPyfNDFYJfNRL67FjvCPcDMgYe2kweUcAEPL4CaH1Kmc0upIdYTgH/Jx6tLBlZpsbhY\n",
       "JxvcKtU5Qi7UmpOXLjZKNapgnegFagAAANhBmlJJqEFomUwU8EP//qpVABgvepnr2/U4GmK0PWpk\n",
       "U4D0foINSUhaFIU3+JhAM9rjUsjeT+ztaB2fzvdI9mPht6+9fwEN9certKnevfHa+ogkJgIj3I3a\n",
       "3+hged6msGcmh2Szwhf+4xJdYVudI3WkEek360axv/h1J335FeRG70OweBg749Lnx3Ok5U0Qdmnn\n",
       "uXi9GE9IBZ2iBef11yDTsmqpNlZY/A0rLQ9pRB8bXT5/gKZD8CfdByv//h6GLIJttBzkm3H59dVE\n",
       "WEQa+12KLj/rqyFHTYAAAABDAZ5xakN/ACGwIwHAWQElMEphIA8pXE0MdeVouQ+Rphn6UDepeqLl\n",
       "wAbKB+f3pDkgbTWqp3NpZ3ZubVIW8Mk1FN5NdwAAAEJBmnNJ4QpSZTAgh//+qlUADBe9poV3T1Ln\n",
       "4siTdt5RqRjx/gGNsLtHlkuhFzE59AUUh/ajO+XG3eAOMnq6P/70bAgAAADhQZqVSeEOiZTBTRME\n",
       "f/61KoADBfHtaV8AG1XkWo4JKbDXe49+qegxd0B5/+mZodPS5KqH9oUC9bhyiG3cy7xIlNc3m5jd\n",
       "ogSabp0Fc5nlYEO+ho1PoVu7b/KsxfKCTGS7dZXymMn+IAdBCoE5JZElGZT7EFuy8odLFYhbSV5B\n",
       "1LNfpL4yKY8IyD1cka6bIAcvwRdVMwCsJYLURdIBm70pNtoWxmK0FEbPcCNknNPxRRDQFG2oyFl/\n",
       "WRnGtJurzkWBgp2Lf2lD78ca63gHi5R/AT9RTMrKXNjrrRtiHRgRKjuAAAAAKwGetGpDfwAQWMo1\n",
       "CPp0eaDZZBTBTCp3rnrKLMjyS15Lodoh8gBWjbEgNycAAAC6QZq5SeEPJlMCCH/+qlUABePi9erC\n",
       "7AFuyGh38p/AwAbKViiPhUUhN+sXtSqdZEsidyY1PiVe+wY6fsyFHepchaZtMD4/ST3jsf3se+6O\n",
       "wW9PeRiWrbIOcGJIdA+wfggFGY5tilY5xiIpkjh6SJ0tvByNDJX7kFoiOvd/yZN2jRz8MiwGv+Aw\n",
       "cSu9z4Q+D0Izou79qOQj8p8BYqHl6RCBlPXwbe5qcxxjqD8tDl4TjTVYGDqINxXWCx2AAAAAvUGe\n",
       "10URPDv/ABLYAMmuEY90AtU6ax5Ld6L4AQ4is3H7pDP+TLAQ3rdG4F3Z7mdEulQraqvjVAql+3i1\n",
       "PicToxkdmkXVLtoQTrZYbF4Id1pKKP9o9wt0++9vbSZ4QQ1qznxxW/Pun90V58wfMkBBjuPjrnBy\n",
       "6xhLwQDXWPHL1KyJlV6qWBxCHLU5bb+O8yp7TQ1UzsSALhWpnpnwz2FW3Fv+IitQd2y8xk9SDds1\n",
       "67Y6QII7ugjGY1Mrgw1fwQAAAGwBnvZ0Q38AGv6xJUNKdybopVwxphu7DYAS5Rk4a1A3tCg6AHFQ\n",
       "MbMl/pi5XN7/IopFn+KZlS4RXwBQ59Hzx5F1WhI98SA1mTDNFsL0Jpfow+dnpGiAP6pneO/yyTnB\n",
       "pEiBnkpTCP/N/MdaPCUAAADBAZ74akN/ABsC7N5KAroRzsX5Ld6i4AWyCDZV/hKhtgcPCy2wwZ6H\n",
       "QZpO3bYnxVWc4JEVLyLznnKNiP3ZuA0qxi5pPYmI8IVqdPiOWiRx1Sj9tYBh8i7+NqcrXUyrRzLp\n",
       "05xZj30rXi5eTkDiV9FZhZSDa54cNM5Lny9tH+kubXvdWV1JdeKqvp5lU6Snw+qbJUpXal49IeRE\n",
       "WqIl5mhxmTYEyNJkbnUWty7+8xqm1BpwTcegs5VkhRGp4GykmlJU7AAAANxBmvtJqEFomUwU8EP/\n",
       "/qpVAAULhv8E7lABEHzlMIyTerFD48vXFyKj5vDCi31UIYKRBgbalFxe/Qb8sr73MBp8VQSaljsA\n",
       "PZgxStMmGPuzgcAKhbyX5tq9kfnL39ZwJFrMBv99p/5Q0pwQK/ar0PcWLmOF99nnEov6+liT6ey8\n",
       "Z+rFlnqFAnYV1ah798WxwbBylUR/ZNV/OWi2vSVLzwO1pez25hrhObSWbhUR24rBRwVvQ7trVMQ0\n",
       "w0tU1eWDt78pL7pm52RqivWr4B9VXQl+DFspqv+1BOdrE25BAAAAvwGfGmpDfwAbBTW8SX88Q5GA\n",
       "CPD3zDIRDC6oC6tKY1Mw5BrfUdC4CbgITDMLrw+q2ybhI4spPfvyJy4aQCVPT81YF7ksW25H/iZk\n",
       "Rk53PDRC2bMAwdnnJBQ9bYf+j3/wMLhaFpQM4VOxhEYxoVVdjJaCEnLS+xJNG5xnCkqhZ16yP+SY\n",
       "GbAcVatALVAIDNgJsjyMtGPI/ja1/sTIjz4pHQrwf8neklTI/45gwC6iauIMX1OQpmOI5R+zGHNu\n",
       "TyFgAAAAtUGbHknhClJlMCCH//6qVQAJz81NS9H+EpXYCE7ZeCVasf2qNw6fAeK82+9iP1xciAZX\n",
       "Qy3qdbgP5R5oa0LqWLJgCmBAl0JQiUxr6Muynn6B5Gp+e86Kkzlp4z1B4s6nIxXYh2YXZjS+xqP+\n",
       "uKqm/JIlc+3GibV+Husy0SM2HqJ5mXwqkx9Typ8Tc6HKTFDxh2Pw2qTpCpVQY9p+M7r3GBx/oOjA\n",
       "J1BaMAxNEtmCanUHPviMyAkAAAC4QZ88RTRMN/8AGwAGZ9qaDCyfnvgAk6Oh9nASdKCU0Ui4zctm\n",
       "9q1pf5iJEQqe7FGS2DmtkmSNgsoUTq5hgAmefYVUSfyQYpeq15JwN1sNx7qow3Dj5zJqCaA6KYg2\n",
       "INTU+VKQ4FKZbOr0evDp21B8uNTEYW67ZChi8zY7X9KqiWAX25pdt7FD5d3WDluZVnrT1kz3LtLY\n",
       "IzvidTLOFKb5ZbpAY0VGgX1hoz+fBnguOtxW3xwFVll9sQAAAH0Bn11qQ38AGmLpMivjSNkOa5IO\n",
       "SLxlzwxkJpe1Sx8l4mieABacjOT5XQPUoqOANWsOkwVLgB1w8s2p5oAw4uWqdyrNg5iBsMjWis9J\n",
       "whQpAH/AkEWQBIk1NIrjrWrsfZYGHma7VPEX1dnAMNaktEXCcdhpy805gxdV7hRBQQAAAJRBm19J\n",
       "qEFomUwIIf/+qlUACYUAcR2JPT1HxdVg4WCfQ4coG0BxdhQnlXqUkE/o95p7+gAHXlL3fX0xBzXh\n",
       "FVZdAxbNPUreazX4xv9UnA8VXnp6m753DemiFSuTCRFAwgYFGiyRLiWpUeYXXgvUw1LyVQQI6iko\n",
       "CvfuomhdVd8D/IwWuT/OCG5FBZZKO/a6RkfkYoIiAAAANEGbYEnhClJlMCCH//6qVQAJiBkUOUzr\n",
       "cLX6RtqEUurYWjOLoBZ7JhcdCb/5PSWuBO84SIEAAAA3QZuBSeEOiZTAgj/+tSqACYNmYfsDR6EK\n",
       "ifn6DPjM2/u5Tx/zfWuA96XKMRjdhbiLjmdT7bwJGAAAAJxBm6VJ4Q8mUwII//61KoAKXw9INHbH\n",
       "P6egAVHtXxuZcO4dP8i/xLKnbmZivUxbm/+ZyV/PD1olUl7dSRWiPFMRN/JUCQLRTcpzomAX+gci\n",
       "08RBkfzd4XdO02CHtzwAUcVmiUvV5fFaR2WB+9lIwkKZw9G4gXJ60xuyuKMr5iQJUSKVEwQaaHIN\n",
       "/mwWuAVPzEqb6Jg9spNV5M8KHbEAAABmQZ/DRRE8O/8AKCrDHH++IxHepeiAEKe89KO27Y/xXSru\n",
       "LLO2uJfuxIkbSyfI/jDKjlSDSYNbjjP+QKfN+vR4uTdxcJdx/0Od04uszuer2tXn5K8K5BhG74mk\n",
       "jSsFpYhGz5QpNmZeAAAAJwGf4nRDfwA3SExQllXWb9NI6niDbC5de858B3pACBHSHWKhcKw30wAA\n",
       "AGUBn+RqQ38AOKTr110HZofaWgBCnu9aYdtN/Q6DKIOVYSPt2F6VEWxifwN5PxFsX5jdpC1JOrOx\n",
       "HqTdgFyJaBRFai+CL2I4g4TrTQhybc/6cK7ACDjR0A8w0e0U60v8iZNso8eFuQAAAJtBm+lJqEFo\n",
       "mUwIIf/+qlUAL1ir/+p/gpAAtQbuaYFsHEU+O4lpZiIY8IK0bWiRk6/XIkVw790wW7GIquFnD6Gm\n",
       "37Ym346iqB/iw/FRSuiuR23a5vOLKPikKnF+Oiamb7x7S6mMvUWzTuf+dtbV8GSYiYFpp120N0dz\n",
       "+NtbjsC8vbzNeUL0YivXGLaf70WQllHRoFKFfN+8lokNPwAAAKNBngdFESw7/wBZVYY3j/8dhDkA\n",
       "BfXpA+LRuHD+JPSomCJh5BlYokvGad4P8nhHPYzzd8YZZ2MDTv5NBhX5QBorSd+4PYVheg7Wak4r\n",
       "JHbN6SgT+v1EssVkQD/Bd9eymclnOjgwAAo5cZFQApzAxorhBw2ESX1eLz2Lvzct4UWmvQ6hQDtC\n",
       "ihOxRZha/IQUPK68D4gmFGzRM2vm+Ptu04nUnr+BAAAAcAGeJnRDfwB2jyvj/hEIPwAmms/Pi5GB\n",
       "42lGFlyLrQTt51eg4pFYV2R+Y8gGrR82oIgDo0JrcoNokdgTxLP6Y2tEjyDW9jxpHhwJlGUWNaKn\n",
       "2TYkeCymr5stofnb8BfXaUt1llcx+FSVjN5lX6H/pYAAAACEAZ4oakN/AHwJ1qf+DeKYADarkvu6\n",
       "MfAzOYiUmrnFDzzz3CKAFgXY7B7+b72UG+QznWMVNKkzKydVCjjIeXSWbTN7j6MgbYMQ+pFsKuY7\n",
       "fNkPsJA51lB0DOAIyg1qA56I+WyzbjB8xeCSscdhIyYBvTJfxUctCTJyhNbCFazkkXvktaOgAAAA\n",
       "t0GaLEmoQWyZTAgh//6qVQAvCZ09HBS263Fu/u6ABdOkQ2ze84wi2uoG5NeoZLYNpp9CPl9+91g5\n",
       "mD/zeB0khebzK+UKvCC2IvccNHbaI+Dc3uMjHMditUQTCAkIfzMJOgm7ZVAF8jMspMaghoypYah9\n",
       "R81DFdwakXRIF71wKwmf38eFtVzj4n6w5gSdR/AVRUkQ8ovHt4BFFIEI6BTkIVlCuTlWkfrsAPZB\n",
       "NJSQAv+EPwlf6d4t4QAAAKdBnkpFFSw3/wB94C/xAfxwAmmtBsq/wlSNBjE35TQr9hFAJ9UHVWL/\n",
       "1IF468SB2Isr6hOsTfdNjCo49PuTD4Z1qL8rQTR4T+p2kEaRXfnrhR+pTlDMt0Kuwa2ln+oyBG/8\n",
       "cfvUjIIuq9ce7YrgyP/p67rB8OofiFhuyOG4mDbKBD/+HoasyZuSATlMsQzDPPOLHH6+YDGHLCjK\n",
       "jENo4TJDLEPEUV8IwAAAAEQBnmtqQ38Af0Z4OzLsg/NrGIZBYvCL+SWx34IyKwzoGUsnSJogd76S\n",
       "QAauTXLumzj29O8HTdoMJln++cp/5uKAeebsXAAAANJBmm9JqEFsmUwIIf/+qlUAGenz/WM6xa2Y\n",
       "Bu93Gpn769+VBkjdAC+tqINHGX/KJ+bXF4cKPIX5wxjWVshx/e3h7oHs+3NrRU7dKfVeHjO8tbqW\n",
       "jrC80hsOIHa24gjqg0QfOs8GVUNIYuJ55P77BcQ/iCrAQRvQRT7pKgpTMqRdSeIjDQ51/GLcjon7\n",
       "u48s+/aC66Iy7kD65mHMhoABUZ4N1khJXagAMpH8nQ5y+0rALRZTSkbY1mxSPny8ZQHdnTxEBYN0\n",
       "G0hq8kfPzjjhkt/3U8EAAACHQZ6NRRUsN/8ARLOu3X6twXwAhOtCTW9YO06Yn21C6LBK9gqN2fE9\n",
       "RuTKrAXIkgO6mTRjUAeySUWwZGhnpqEWzVfba2WguKfiEJJwN1IhE6+uVx3WnCoMehu3n0xbqWxU\n",
       "KdaDNUndJHG6tgMZ+5As/SwXd5zglcAlGP0C/SOzqI+rsaAltqODAAAAKQGermpDfwBHX9JhwFj5\n",
       "PDn+pPvpMzIet5QL2dGyPKVQ0rMOQ9qPIwuBAAAANUGasEmoQWyZTAgh//6qVQAaD3th7CQCJGrW\n",
       "L9XvSG4xhttrXj8iaLhyVgZPZavt1K5Cda/AAAAAdUGa0UnhClJlMCCH//6qVQAM9JxGRs8cqIhy\n",
       "tNS9AqMn/F8lEk+Lj2tABfNqlAR6DxoQ0ma0RbnA1LMBgC29zR1nhnTZKsDjGwwC4wJq6bvf+tIU\n",
       "tBcX4MrqZcNnJl0IHyYoTOUyAmudmH0We/R3WahOaVtvgAAAAM1BmvVJ4Q6JlMCCH/6qVQANB71K\n",
       "yXgQYCg7uv460IUQAUtAyP5NMLx8AuA9NVIORjswtIfZ+iSlWyD9tRZGKxYLPIXS+1W80FZOyuRk\n",
       "iZ04VPtalB9pGRhkmzXVQM2jWPNZoedWXWXtHqhNmXHKFuM7e2Y9DiRMP6pnfY37RFgni6icWcNB\n",
       "1w+CsSH5+ENo+M1AOmx1iSc2OkmfKUwTcjjlwgZ4jYRyArm3uXA/uuwnRkveF/SYYxDEjbdWJOKe\n",
       "aq08TpwWekJFRhTISVRBAAAAvEGfE0URPDv/ABlNpbdXdo/CecBeAE1fCVSq+OYOHkK1XNYuarT1\n",
       "x9AH1AjlNVCF66gcJOxwwaQI8c3RcZWTw2YI+79fvL9f7vRChgeXxQ/5z8lueAWGD1a9sHFKICty\n",
       "oCp/oJu0ZcfJnqY2m09xJB3xdDhL1GFnpvisj+zt7GvizXfUl6Y4+z1oqPP8cEFWSi5vaj8Hckl5\n",
       "U80E0ZGfYrBPfh7t6uO33vp4UjQsOuI1ku+8IuonJfVMu8DYAAAAIwGfMnRDfwAjr6zX6IVDdEbd\n",
       "oxlvJ0jCi+p3JeeM7HSw8tV6AAAApQGfNGpDfwARWL1Q+L4w2HAAP6QfmF/kKT7GALaxjDmD3zrz\n",
       "3XazhUCv82OPk3xuwsLNGSBRvyGJqWNuuaaFokC98RYREGL0bUfcNXaGqcbzp/Jb+OwJCZ69GAM5\n",
       "HIal60bFIaPMdYeljPyPgi/Qsnc0Rk1Pwnm0UQRULvtE9FjiZwZ7yaJM8zLDmmSSuPExpmdkl8RS\n",
       "wCxqAKx4x5EDGrmQuNkK4QAAAMpBmzZJqEFomUwIIf/+qlUABgveo9H+NGteeAClvZKdVt1LQW7t\n",
       "qvrhWlLYQrLAy3b7Vg/vXzB8z+X1rXNaTBlkozxWVrPbq4R8BPKYVQFKLkFOAeXfSoTQWu9brAN+\n",
       "dFeoGEChxDLjlCwoOKi0uXIQB+L/0Wj2N37zfzJ1/1/TWIGgsivE+DYZkkq1iKpRMOPqsC3lKyLP\n",
       "Luj8ld0+aosTed+RSCy4Ev24VZhWA7v8xlAx1ci1QT3VaQEr51LP/pK3brhjbSyJ+WxIAAAAv0Gb\n",
       "WEnhClJlMFESwQ/+qlUABePi9equT+Dl1+ADryUoCPQeNCGm85ICJr6oxZ1evBreJ+7MHXW/0fJO\n",
       "r+tpuin3funmfy0rLy256hUYFEU/gMJ++GlKpLxQs3DOb2frCx02gUS2HKYMKI6Q/wk6OIVwbN6S\n",
       "jS1Y6Cuy6jaVIlHBv4XpROjiTXtNQO5yRKCQidVCh3D74iCOnJBNVdoLMz3RvnbaIOKLyDiFqova\n",
       "orgoHICFNWdeVv6iLMNom51nAAAAvAGfd2pDfwAP318Q+D346gASqIbqxmN0JWyNrNdu4gxerr4l\n",
       "ZpsbhYKHwKvebNE6RzllVg9JkgvvDFGpuUqyY6outSAn/whhwTKEt99N6pr3gBmv9R/Y9Z3C5Qlk\n",
       "6NRnSGKo0R1Ti8jknZe9pjCjO6UH04mIX22AaMBYHWSlgjGtRA7p0CeYrpT9ZGkr4eWT+yytkrPa\n",
       "FK+v92shPEzP2d7mqPmZNN+PfaM11TbyEgnQErhVeB61Upmnh0ixAAAA0EGbe0nhDomUwIf//qmW\n",
       "AChf1cB39WMW5zCOh8MV72ewqGxvIEkawp78sB/9h4iunfQmezJjTkqIIg9cmGFmdxdx+a+5SZdW\n",
       "Kd4bZ+FrzUOYJSnAdBGlnQS5nXGkZhhZ98QM7VGa2kWVxa7wqfGSePOb/mwU+qQzRdok0tk+l77S\n",
       "pUPFITavD9XvvnuKzFMZh8WzpBHxVqQPUMno1pTchbSuiQ4zDG8DxpSjx/CDpeDDydb69GPTnVNa\n",
       "qvKph+KFm7zsRvXdvj0xwjB8btu5JMwAAACgQZ+ZRRU8N/8ADy9fEPhbbVwAD+kH6ZoFhW1Urq5I\n",
       "Ig2KFlNrbNNjcLAiisFgs3fL2pMoQ7gJxboJpm+CtME+RThOTVqxjmuShif6gXlK4R8d2kg9ml6j\n",
       "u7nZn9ENMcA8LHX2xUi0UAmyq9U8W4ccBPK9aU0VhUEyYzKDBR+Gq3A6N9KMWSLmoi8gD5g8UStX\n",
       "ZLMdkIpqCziGq/uGQpCALwAAAG0Bn7pqQ38ADtdfEOndhq6SAAfwXLno4pSBej7VC/lpF9ml8+Jk\n",
       "NaflfqKuAexGLrbWsmuikTkj3XBWecL3M9LLpWdLaPClqysFDOMzlL7hXumabtsHGsXlkyh7NQ7S\n",
       "XWUyzv/LAmRkQwTnPx+8AAAAK0GbvEmoQWiZTAh///6plgAoG5C06ZnA50Zkwrcy2dp3ZkYrJSRx\n",
       "qp3MUYEAAABEQZvdSeEKUmUwIf/+qZYATn5lEctSeyxRRgjteFgHZzZ9i/4JDt1Nt5ASiftRc7I4\n",
       "FoldRsfsUiy0/sMiJXiWeMdnYeUAAAApQZv+SeEOiZTAgh/+qlUACgcwu3/oZlirMoha4xPVPXPq\n",
       "ou2OFpI+GOAAAABFQZofSeEPJlMCCH/+qlUAFBGhKoCrR+BwKMscb3qC0eXK+744QALr3736/Gxu\n",
       "/C56u9rwlbzIpK3BtUNn2BS2d+TOrayIAAAAZ0GaIEnhDyZTAgj//rUqgApQ6gVU5/zrzbLZ9kzA\n",
       "qgwMlR8gd89tuMjDOACjiSqpufxJLcj+YMjVKt8WVq8zB+hLf3jSvSRrtV5v/y+aDWyHKomLzGLp\n",
       "9QC5lNhcAr/42xHbT3/Cx+EAAAC1QZpESeEPJlMCCH/+qlUALYfJ8ADQlZOiUYY/P/nFl3zsKtaW\n",
       "aFyLkUBCDb+Cpnktv7EG4VAnMhHPOT+Za5GvK7G8zFlsj3uJKWLD8GqCPxvJjaUm3Ngo0IBcW2Ct\n",
       "4elnN2yx87vlC/xy9perTUqonvlj3WXUlBsFvSfyKigRtpJU2lEbcrV4fJGReB9FlxEFEsDYhUhX\n",
       "uxKEtOcB9n9cpqAF+lvsbM875f6bU6MiN7hM3xamoAAAAGRBnmJFETw7/wBXFXr0R/gAhT4Skay7\n",
       "GMtvmt4skHpifrf+misLzP922j5Obizkmn72OlFi9T7YjOXNZc5FzmYfcas2jBnc7jA9FYAq/sUS\n",
       "XjNJVw/bKQoVYDwNVdTr95kr6mfJAAAAUAGegXRDfwBzz5E83OijDZK1rQBh67hMCR5e0In3ug83\n",
       "z3cAEP1oPlDkGFRMM5hXwVpc9JExHTuh/k16cYBy8B4/wdVtjZPNCNEkS3VijWJiAAAArwGeg2pD\n",
       "fwB5Sdan/g7HmAA/OP0zQLCtq3bJhRLiw+iSV5N0aYmKPfpA8OTKtg8vBWStd0tz+1uRIIvQO5w3\n",
       "K3RgF5SrAnWLRT7jFymgTPNwLL2a+RgIzUKIpx5rvTPJgzp9z7Hk5TOxkUYywUj3TO/zma0tePXr\n",
       "xKbvx1LntQvcQ5SN/M+NDRcU8cezPrOEnL+ALcCivV0Tf4wodZ4UHhFl/0BXhGB4JqwzUtSgREkA\n",
       "AADhQZqHSahBaJlMCH///qmWAMRev/0bD7wIAHZmO4aqaYXj3+Dg7sb7Xz/v95lYNQT3AAmco+gj\n",
       "W7RJSmv8ZkYCvPaTYCcv9Rxd5mXsmd3OG5/9OPj7ZCp6EUO6QcR1Lm3Fno0GFutjLGVWXZFUbT0c\n",
       "UT8tKp/gTvqVNJgphCHIvWO29/0O7rwLpDJbMRdSvDrQE5I1kf6LlFWJsNQuhfigFd9VT5N0h/Ue\n",
       "ugNjo2EhBWBlconifes2d3wJ0fLekZ0tj1sUNdiER3Dokt+xSKGzFanC0XiwhNRQVcN2v5l2jiqh\n",
       "AAAAtEGepUURLDf/AINXoAy9/4rtJvgBCntxVuq7xB0WWuYA2qupm8+kmhOmhnR247Sx5EuV80J0\n",
       "Mk2lFn//h3W6s/5Um9FaZ/p0NZD6mhk4hwOV8qQWSsvhaXRS2eNeQoOMw7OvWgoZDLcPNs4Bz+Pw\n",
       "G175HH/4J0oCVHfIH9K78WT1gzFAMK/1dVkW34ccJuC7jDO+HePJTj/lBE6b/FkRT4OLz3XlvX43\n",
       "RiHTL1FPZszYPCFE8QAAAHgBnsZqQ38Ag1dmp/b+nGFJsAITrWMMkdkElemCIi4ainAeZY/x2hMb\n",
       "noOQX6vyrnurhSSbrlMRD6GSZmE/yG5J9cExu/639Js27k4IpB6uuXEf6s2xMzxC+3OWB1f/giVM\n",
       "uwXGn3h8zjS09Pr3TK8+JwBTtnoAM6EAAABfQZrISahBbJlMCH///qmWAMvev3Ge8rNqYAGi2nAc\n",
       "uqePQmoxoEv4MmeA3JFAL/T7ADfTiWVzoQhhU3ARa50SlNZgK9EeChyPp9kfGRXu9QdW7hh/kPl6\n",
       "hEhxY4PULNgAAABsQZrpSeEKUmUwIIf//qpVADcWZ/+INPK8wALp142nUuHb+WEXGTqIyv6fivUv\n",
       "c99LTcqiUfkVfni8NXIXDDEQKS+1NvbNF3JUgIjhydeanvHLYEAAjUqVSUKsPk+DijJKIW5HNlyt\n",
       "Wv5VjHCAAAAAtkGbC0nhDomUwU0TD//+qZYA5k7/+HwzUAF81PpRhPBUKM+gamJZFXCXAvEE1mey\n",
       "MlqBFEH+Fe/3qIZYgKi2L4xJzWeqsinVhsU+bFkSwUWfxe1SDLZYw7DSeTKIr5N6w4PeURyynGln\n",
       "LiJGaRqUBlydKX4G6xzJf5w2AncFtiMk6JcLsBVMViFY4bJJbDCLnzo2yiyMroHe+OU+d16omYnq\n",
       "RW/xS1aYzaat6kJ5hES+GhiCpbzJAAAAQAGfKmpDfwCTV1hyndl0vKWegATrWslDF4JATEFI+Z9o\n",
       "WVTC2FEUKsS5f85nx3qrK0Pmx1XGdHJ8YpI2o2uLa7AAAAB/QZssSeEPJlMCCH/+qlUAPDpEIJq1\n",
       "vn5CqAPhV7OtuIbqSWvfjr94yFjJQEeg8ZpiEMZBEvqqzERRHHL+pTxzE0P7fcfgBPWbpnhovFFB\n",
       "yDPM0tl2hfOg5PlJczNjwetEdpZtkNgyztJZ3bcLdf4aTnLrWeD6MxxJkz6WwD35EwAAAEhBm01J\n",
       "4Q8mUwIIf/6qVQA+RS49nRo7mjBsHTWgBG/KoSOnmPznApLMtliFrn2//M9G3M2uW28HPSIJ8RN/\n",
       "w+4RK3/jZarcz1EAAAB1QZtvSeEPJlMFETwQ//6qVQAbLAHbZZjcYJopxzM2SQGrVtoGBCXINd/8\n",
       "JUBcAPxRaqmI1UsVsL24XKjQj4bsyjXFhOVhxMeNdXcsrE/JwxCYpjqTmFJc3TumoqoSwdDTLpd8\n",
       "bHp4FI6SZ1QjdgjBpuxjDjPNAAAAPwGfjmpDfwBLZys57Kb3dQr2ilcxN+n8FoW+AFgrQeute/rH\n",
       "WAtcUnt+w3HFAP+bNfb3S8mrFxfBxxmqVBBXNQAAAHpBm5BJ4Q8mUwIIf/6qVQAbT3VFOPG6rnp+\n",
       "fzo+BWDb2/TuGt3Z5OnnL+ErpuQEYUdeBmRDDUgaNSPBB6vczjFYkG2W+Ibj1fVTK7xSvnAhi4RP\n",
       "W1PaA5B2miiCVguqbTRGnLS0IfKORpfO5PtNlJrjucMLpzXDays4AwAAAMpBm7RJ4Q8mUwIIf/6q\n",
       "VQANp71KyXjuRyZaEXLm6gApblyJY4SnKeBN1O1hdKXXK90vC3rjtMKOFblf9iNeUED2EUyMCv5e\n",
       "k+uRyQ3SccnwRgs7d1MOK/4SPhDjlSSxfJVj0PFDPgONSsoaVvuvIQYO0iNuVfY7uu8Vlhzgj+bE\n",
       "lSh/Y8KbZP3pFJ7JpvposUpBp0LWVwBnfX4PSEzLAepVzpFbnv0dFAAETfyL86hDTtrDBEBT7T07\n",
       "LrT/8JNo+SawPpIeJs4NE6eAAAAAhUGf0kURPDv/AC55QYz66FpwuOY50ALaJmxcE+k17rctrlRO\n",
       "fsAYBwR/9hsj3g4kN8gJDYyztljUFscQ9L19yZkP0WYZ+5TNrbR9ctYtXA2yBaJ90/8W7Lju0dxj\n",
       "B/gkfwZVC5Jn9wjhf01WYA0FV35WOO0zXG/OnrRZxwxFaxVTtQNOwEEAAABwAZ/xdEN/AEFfZnR1\n",
       "nqxEYPPBYp9aB+kRlTnJH8DrZaaix6hft0ABsoLGGSOyCTCkNYbMAZrobwhRTT9xnD5NPYrePKXr\n",
       "V0+7waYJJwQoss2vN32YJtJcEW1bWO8qPDCWBzp04shWSzZ8zbyH9FApIAAAAL4Bn/NqQ38AQWvZ\n",
       "0MeKROiYzN20UicAwATQMRL3kBHRAfW2DfliIItT3/g29Oldmr/q3TS0WocIooX9fpw2+EC97KpF\n",
       "7imo6LTVSOTNu10yYnXNkP4SfuHHFwqjzR7ZuqVVIYER0I5k64GCjKHvvH/LdVVNNroeJBrzE2BV\n",
       "9oiojbY176hV+7GDtNwh8Pm0he9i6xvRrGjtUVmI/k/eUjXJAiy8fSL1M0i9G0Uql0Mj8jejS+tc\n",
       "7k+7m9W1scuOAAAAeUGb9UmoQWiZTAgh//6qVQAGUy6hv+n+u0mUAAZbbY2nUqz4dJssTs1kikWl\n",
       "ymRR6cj9ZVyDd7mtZEVbJi2CACo44lQRoVWjAeAa4LW8bQDKSxfkLr2LrzcqxlGP9GITNk9G+bk0\n",
       "fFIjTTC++wEwpBNZjOqMJv6kbDEAAAB8QZoWSeEKUmUwIIf//qpVAAYz3qPR8Ja7Z1ABeyskIF2g\n",
       "2Eyo0175102WkzmEFJLeHNNOx/p2oZtu55wW6M/rrl1tjNGtbERf6AhZXg8B0b8012BVhzJZEJUG\n",
       "7IuCjuZI9zkticL/hLueE3VRk7BiaFwDBR8kb+xviiptUAAAAK5BmjpJ4Q6JlMCCH/6qVQAK7w3o\n",
       "8NRB+1wAX185IQLzx39ZXgUBwFmO9tI/GfWWP4flM3UD9HucW68R7Z7zr9dLmDMR4MUyftigIHLi\n",
       "jRW5lxLUqPMLr5NvAo198OVvXgc/6YmZs4uopbmp/1KXHtcdr0Ua7JCi1DN8/0fwczgODWDRYhcg\n",
       "j0J8pBGxcUWF+/uRVg9LyMhqKSyLHGCFKRPbbQOhAVZ9Sqb+KKnk54UAAADQQZ5YRRE8O/8ALuxc\n",
       "SqLenP8AaxDErbmZA9SbqGyWfQVgR11UDCxny6BQy2zr5+XzXzZI218862Lt9qfcjkYiO7V53n7F\n",
       "E0P5NX9y/kL/lJcDWsCWX4wyK4RItVfEnNtBaQAlRy/Ryf8PnxuUWiVVUDY4BJxLRq+PgTW267Ol\n",
       "7eWiXkpbPNG7u8yjyqNWdz1HEHPL/2vq1RurZ2p97rO+bfNYPEJiNJDh5Pb8ZMcdmXOPddoH0a8d\n",
       "T00GuynCJCXHKUe+lb0shpQrWfcncpqBKQAAAH4Bnnd0Q38AQV9mDZhZC4Ptlw98+aew2AG3yM5P\n",
       "ldA9Sio4A1aw6TBUuAHXDyzanmgDDi5ap3KtZVnaMxLVLcs9E2K45d/wJBFkASJNTSK461q7H2WB\n",
       "h5mu1TxF9XZwDDWpLRFwnHYacvNQamLV7UNAVeiWZcwRJ0F6PeetkawAAABgAZ55akN/AEFr2Y63\n",
       "ZW19FTiwU0RUyIZzFop9xNnhXy/HpA2tO7lEAEJGLdsO1kwTB7TChBjDRJ60E79PWHLlnEv/yVsb\n",
       "T5GN2fLXu5ZEdNV3alMP2Z4m+rySsi3NETd5AAAAXUGae0moQWiZTAgh//6qVQAK3yaXZz4Yse2H\n",
       "1qhT/tI8sVgZiJsT1Doc5f0eQTUD0eABapFr7NEBzv9EqeN07XIutlsI62fNkWuwmUx/c8qfnIVN\n",
       "NHQwXKdUo7i53gAAAH1Bmp1J4QpSZTBREsEP/qpVABXeG/wZXvQBxysbLPZwiDxd18bVe0p6I2QC\n",
       "7lOcnIuRP+vFzRyTW3qto66wHnS6IRSGk/wJtVnYCXDDpnfg8iEmmR8Uey6eI3ZJ10Y+Xq5OEBO5\n",
       "SJoroM9oXImGBoGk3HTw2QfyazdoTQeoOwAAAEoBnrxqQ38AO2UG+7tcnKkgtop3DZDtcZa6WuGj\n",
       "MgBDiJpogmU0NoZdpwfLYbINoqVLdOeEX+6HnnuEUA74xwJPB7moElUX3yxu6QAAAF5Bmr5J4Q6J\n",
       "lMCCH/6qVQAVvkLNdfuJCht79poSRs4sRfSiI/h1BrsgjqAGUryrBrwteiwKu2JprAfthC56/ihQ\n",
       "N/81w/jrYEvWLlBoTaLtMSoPq5j/Pc1hUY+H6hSgAAAA1UGawEnhDyZTBRU8EP/+qlUALdn3/4wg\n",
       "16AC0dalKX5EyyXccBplz9723b7M6vYznL80YBzOoCFAZeO2TGZ7NYn4oTZILJGh+JJ8P4xez5xP\n",
       "kWGI7AL1d5WZccoWPu4tVqaWDSeKdUm6S7BWYme2V7EzzoXJ9idaPd4QWIVCGR4ZMiroDOSvoukw\n",
       "U+rUL9cVuQzQFUQECCpSwHIZm9tB9tR+jr3M+ljCr2PQHaBRFqy7iP3SUOl6NEiE5bxvLM8cOgUe\n",
       "7Ch4F72LmdFsCauoqFNGz8KO4AAAAHwBnv9qQ38AeUnQwAACUFpPbU9lBcs024IMM484WHf1MMrh\n",
       "9pfzuBh0/pPNThLIYTaM8PNipxDejDrq7zR9M0CwradMT69PDCTHc3PnzpuWdZuFuynOJVIRG2Ix\n",
       "cHPn3PyqaPek93FMjyTIr3CAeFfFQ4vAeojEleMdil1BAAAAq0Ga40nhDyZTAgh//qpVADEXxZxi\n",
       "aErrgAlOdibyEeMFc8ovBuntuhS3YKp/xp/YiNEK7Oj8DAw6JPkqIMoPX5FDh8e/egYlCrRLGNw3\n",
       "JY2lZcxbL5AA26YS/vbM4seSc0zUSBG9RI58EvZBF95oPlLbq4PB609FlAjdatI8m/lSXPwHt6oq\n",
       "TsDBOXQQ3QGXmMSLw39b9k51TGGAR5r99nZZyQm0JXXNBWgfygAAAHxBnwFFETw3/wB/V2an/i8c\n",
       "ZsAJq95nJ8YvSEPXS0jeh36u/GIfxYfRIF2v12IlVquMuTsicMB3nlc6RugfY1qVqpSx66+QB2q/\n",
       "uaPVvtzJiwPeRtNmAQPkpEsGcQcp/sia4LnoSXlgwy0EyRCtY1UyNwe/OdA/15rirfZBAAAAUQGf\n",
       "ImpDfwB/V2afbud/olyAANpQGt9hv40XbRdy9fplosNy5H8du/bByaLTAqh61J70c+/2TJMbN4Oh\n",
       "qbJQe4cNTzEXxC5XeRGNxla3Q9kLkAAAAGlBmyRJqEFomUwII//+tSqAGkV26AAl9emI3o6tPRQd\n",
       "G9LoaYQbu2VP7FIfEnRDHWbvO/Y9HPAq6cfNLsS0kC01PSDZksPnZSefA2dFAZn6timO5fUiHZuH\n",
       "8TYEfouOAUE1fzVfGfEpUdkAAACyQZtISeEKUmUwIIf//qpVAD7xV8LLBf+gAXR78p4EfJdytPyb\n",
       "WaNtGSPsrRXf3rl9KNDD4uq6Kbf1ygRCbLzvnbZ5gMUcY3UErlOeaOZdu8UsYoFb2Fy7IrBKovb1\n",
       "on76CtHIJC8Y2A+xXF4pNpi4NV6l2d1rj5o94lC9QCOl7XyJubzxiR979eQ1XzTUvvUsCby4fF0h\n",
       "budmRkmNrVowF07Ua4inJNhII6UmHzo90ZLSkQAAALFBn2ZFNEw7/wDPlGmPFEk6n81pvEoANjQK\n",
       "gXpmSOX4Zc/9CUHq8bjW9io1UDAogRcmUHiF7CYy5Lm5sNxV24V3psK+AKPVViL8oa1ZQgsIuJif\n",
       "5l2v85pwWHvVMUHwYVxkHY94eT7M0c7L8xK56NLSRkVeb/PmrsLL0kFx5lpNv9II2fexC97WkERA\n",
       "S6colbpPdh/KXPMQb3GdFk8MTheYAt0iu76fTRNtf6+1AVMzw7sAAABdAZ+FdEN/AI9drU/r6Cnn\n",
       "ACZQZBqzjaBUz7I0E1/T4EON0VZYRDWXaYe7woFBJjidWCyr86o4V0GbgeK0i0HdtYWQAqamNnb7\n",
       "EVl5Ac1UxboFiMrUsDzMlMf/iYeBAAAAsAGfh2pDfwCXV2an5UPbpNgBB4Mgi0PbjaMJpIKP6OIr\n",
       "qpc1W4Fw0ZfxYuYQgVSEXWPaR6nhZWlgj5cFA/JEPyhxPNF2/YajW0MmlUm7AtVcziOZCqr9uRsx\n",
       "Md5cQpeBEogais2IUBaaYal/Z1ZTFrPjRDA1UsIBObdBhkCeZRDBorGXWLOEQvS2Vn2yNMWaQIZf\n",
       "QO6rPmhHEhQ1vSFkCSTQEoWpWEhDxZ0/42wiwADMAAAAnUGbjEmoQWiZTAh///6plgDuXOIvUSgq\n",
       "gAypPlK57+RcGGk2DAfqAibqYuVNAWNoZGLuhuYiv9A6rgewvZ75nIW0gpnIQ9Hq591aOPGla/Yk\n",
       "SbpLvOTDI6c0r0iZCIZ2TV41fvx+r0RoSEGl431BRe0FY4MayfB0r52eY86kRMFrZDKQi3SOlSWi\n",
       "AZbUkJLulLuzyOqK2rGXQyjg0ioAAADLQZ+qRREsO/8BIkgOtQ44XP/BYM8DUAF2EpKtFhLI11GS\n",
       "z/52GtU2KGc5dNDsbjs6Xb75MbLd6LycP1/hABlgs0s/XP4eV+DlUn2N8WAfibJZF1WDhJlJhFOM\n",
       "tlbgtchBCLcEpzUD6Vcb/Oc29eepoDXnkj5HnurTdXBYgqkJimwF8h7wknNiZPlE5Lawg/8p1nKi\n",
       "R0fZNsDqqGY9eJOySfKSFy9Iwo82SqJPSsSchHQV60MlRqFz8AxD2rnwvjgY4lgj/QkoBbcfasUA\n",
       "AADBAZ/JdEN/AJngL6e/TXzABEHvMlA6zb1/Y4s//TVcPcICut59JNclHbI/CanAUqVnXHu7y2If\n",
       "ESxD1P/8IacdiLROUEF5w18+7CNo88R/IigUWYixP6hMpC/aL/TVs8YG3AEfRz1h0FX8J21rI9c+\n",
       "jayhx74E6X4D11CgXm656ZW56Yw/c3shG/K9dQJVECgtWN8jUoaNxF7Ye2Z3NRjVf/eXLKjCbMmv\n",
       "roDNrHrpoiAlWXQbGEPaLOtnle+9SPrdgAAAAKUBn8tqQ38AoAXUAJpqwEagvdOdiMgoOC9Frf9m\n",
       "HzzrVjBGLPQJ4Zie57eDdb5cWTOvDJl0Igk/azuG9s41jNqsoSqFuj8jbBmN2Ly6by3zrQoTtHD7\n",
       "zTPBroM29c9PMidzvMN3zwAjr1UrKFY/1ESI6ysYXDLZPCA0MgAK/I4PXIZkCcHvL7H2rOtQSDPn\n",
       "ERbu75OAa6mr8uljIj9JTlD9X82W/MAAAACGQZvNSahBbJlMCH///qmWAG8aciRPuU1UADtKBbyU\n",
       "Vs2qt0rHRwYDUWefdp04UHaOrluswJ+2ESbpb+IvVhi2r2F4kDgDZfiUa9how589aNGUYxR/Lz5O\n",
       "B+dNT3/K3ap+0wezFvnEerp+UYL1Qz4O/qkvnr3cm/pKPywBkpBz5fmqo+LwqEEAAAC8QZvvSeEK\n",
       "UmUwUVLDf/6nhADb4GbnQNMg/1jYAQgfirdV3iDrA/WY7tVdXoFw0Zfxof/IkBK42gY7gPmVofWk\n",
       "4Xod9i4+PG1CRsuRbgRfxs/o/hugvnvX9qJ57YQagUyzzxGguW4dI5WLk1bbJockq+OhyiLTxwxr\n",
       "t5mcuqwSXHK3BUZnSPoYvbPW6HskGGiKs8oooQw3nTZMZxxx5GX6I1eE7jXHFUewjbkQYsOZ423U\n",
       "4/A6mrCWMyEol8EAAABFAZ4OakN/AZiP+JprtQE2qgSdBAB+S2F5AGLNi/JPGJ/SiWWcdcRgXIkO\n",
       "AQrmn2sYOfO/z9rLPKoJ22HEZIzUFx0/RbuBAAAJFm1vb3YAAABsbXZoZAAAAAAAAAAAAAAAAAAA\n",
       "A+gAADhAAAEAAAEAAAAAAAAAAAAAAAABAAAAAAAAAAAAAAAAAAAAAQAAAAAAAAAAAAAAAAAAQAAA\n",
       "AAAAAAAAAAAAAAAAAAAAAAAAAAAAAAAAAAAAAAIAAAhAdHJhawAAAFx0a2hkAAAAAwAAAAAAAAAA\n",
       "AAAAAQAAAAAAADhAAAAAAAAAAAAAAAAAAAAAAAABAAAAAAAAAAAAAAAAAAAAAQAAAAAAAAAAAAAA\n",
       "AAAAQAAAAAGwAAABIAAAAAAAJGVkdHMAAAAcZWxzdAAAAAAAAAABAAA4QAAACAAAAQAAAAAHuG1k\n",
       "aWEAAAAgbWRoZAAAAAAAAAAAAAAAAAAAKAAAAkAAVcQAAAAAAC1oZGxyAAAAAAAAAAB2aWRlAAAA\n",
       "AAAAAAAAAAAAVmlkZW9IYW5kbGVyAAAAB2NtaW5mAAAAFHZtaGQAAAABAAAAAAAAAAAAAAAkZGlu\n",
       "ZgAAABxkcmVmAAAAAAAAAAEAAAAMdXJsIAAAAAEAAAcjc3RibAAAALNzdHNkAAAAAAAAAAEAAACj\n",
       "YXZjMQAAAAAAAAABAAAAAAAAAAAAAAAAAAAAAAGwASAASAAAAEgAAAAAAAAAAQAAAAAAAAAAAAAA\n",
       "AAAAAAAAAAAAAAAAAAAAAAAAAAAAABj//wAAADFhdmNDAWQAFf/hABhnZAAVrNlBsJaEAAADAAQA\n",
       "AAMAUDxYtlgBAAZo6+PLIsAAAAAcdXVpZGtoQPJfJE/FujmlG88DI/MAAAAAAAAAGHN0dHMAAAAA\n",
       "AAAAAQAAAJAAAAQAAAAAFHN0c3MAAAAAAAAAAQAAAAEAAAO4Y3R0cwAAAAAAAAB1AAAAAQAACAAA\n",
       "AAABAAAMAAAAAAEAAAQAAAAAAQAACAAAAAABAAAMAAAAAAEAAAQAAAAAAQAAFAAAAAABAAAIAAAA\n",
       "AAEAAAAAAAAAAQAABAAAAAAEAAAIAAAAAAEAABQAAAAAAQAACAAAAAABAAAAAAAAAAEAAAQAAAAA\n",
       "AwAACAAAAAABAAAQAAAAAAIAAAQAAAAAAwAACAAAAAABAAAUAAAAAAEAAAgAAAAAAQAAAAAAAAAB\n",
       "AAAEAAAAAAEAAAgAAAAAAQAADAAAAAABAAAEAAAAAAIAAAgAAAAAAQAADAAAAAABAAAEAAAAAAIA\n",
       "AAgAAAAAAQAAFAAAAAABAAAIAAAAAAEAAAAAAAAAAQAABAAAAAABAAAMAAAAAAEAAAQAAAAAAQAA\n",
       "EAAAAAACAAAEAAAAAAEAAAwAAAAAAQAABAAAAAABAAAIAAAAAAEAAAwAAAAAAQAABAAAAAABAAAU\n",
       "AAAAAAEAAAgAAAAAAQAAAAAAAAABAAAEAAAAAAEAAAwAAAAAAQAABAAAAAABAAAQAAAAAAIAAAQA\n",
       "AAAAAwAACAAAAAABAAAUAAAAAAEAAAgAAAAAAQAAAAAAAAABAAAEAAAAAAEAABQAAAAAAQAACAAA\n",
       "AAABAAAAAAAAAAEAAAQAAAAAAQAAEAAAAAACAAAEAAAAAAEAABAAAAAAAgAABAAAAAACAAAIAAAA\n",
       "AAEAABQAAAAAAQAACAAAAAABAAAAAAAAAAEAAAQAAAAAAQAACAAAAAABAAAMAAAAAAEAAAQAAAAA\n",
       "AQAAEAAAAAACAAAEAAAAAAUAAAgAAAAAAQAAFAAAAAABAAAIAAAAAAEAAAAAAAAAAQAABAAAAAAB\n",
       "AAAQAAAAAAIAAAQAAAAAAgAACAAAAAABAAAMAAAAAAEAAAQAAAAAAgAACAAAAAABAAAMAAAAAAEA\n",
       "AAQAAAAAAQAACAAAAAABAAAUAAAAAAEAAAgAAAAAAQAAAAAAAAABAAAEAAAAAAIAAAgAAAAAAQAA\n",
       "FAAAAAABAAAIAAAAAAEAAAAAAAAAAQAABAAAAAABAAAIAAAAAAEAAAwAAAAAAQAABAAAAAABAAAI\n",
       "AAAAAAEAAAwAAAAAAQAABAAAAAABAAAQAAAAAAIAAAQAAAAAAQAACAAAAAABAAAUAAAAAAEAAAgA\n",
       "AAAAAQAAAAAAAAABAAAEAAAAAAEAABQAAAAAAQAACAAAAAABAAAAAAAAAAEAAAQAAAAAAQAACAAA\n",
       "AAABAAAMAAAAAAEAAAQAAAAAHHN0c2MAAAAAAAAAAQAAAAEAAACQAAAAAQAAAlRzdHN6AAAAAAAA\n",
       "AAAAAACQAAANFAAAAbEAAABoAAAAwAAAAM4AAACRAAAA1QAAALoAAAB7AAAAuwAAAI0AAACMAAAA\n",
       "fwAAAHsAAADIAAAAdAAAAGsAAABEAAAAZAAAAGMAAABeAAAApgAAAHEAAABlAAAAMwAAAD4AAAAy\n",
       "AAAA1QAAAMYAAAArAAAAcwAAAJcAAACCAAAAewAAAHkAAACCAAAA2AAAAH4AAABuAAAAawAAAL0A\n",
       "AACBAAAAZwAAAHoAAADEAAAArAAAAJQAAACQAAAAVgAAANwAAABHAAAARgAAAOUAAAAvAAAAvgAA\n",
       "AMEAAABwAAAAxQAAAOAAAADDAAAAuQAAALwAAACBAAAAmAAAADgAAAA7AAAAoAAAAGoAAAArAAAA\n",
       "aQAAAJ8AAACnAAAAdAAAAIgAAAC7AAAAqwAAAEgAAADWAAAAiwAAAC0AAAA5AAAAeQAAANEAAADA\n",
       "AAAAJwAAAKkAAADOAAAAwwAAAMAAAADUAAAApAAAAHEAAAAvAAAASAAAAC0AAABJAAAAawAAALkA\n",
       "AABoAAAAVAAAALMAAADlAAAAuAAAAHwAAABjAAAAcAAAALoAAABEAAAAgwAAAEwAAAB5AAAAQwAA\n",
       "AH4AAADOAAAAiQAAAHQAAADCAAAAfQAAAIAAAACyAAAA1AAAAIIAAABkAAAAYQAAAIEAAABOAAAA\n",
       "YgAAANkAAACAAAAArwAAAIAAAABVAAAAbQAAALYAAAC1AAAAYQAAALQAAAChAAAAzwAAAMUAAACp\n",
       "AAAAigAAAMAAAABJAAAAFHN0Y28AAAAAAAAAAQAAACwAAABidWR0YQAAAFptZXRhAAAAAAAAACFo\n",
       "ZGxyAAAAAAAAAABtZGlyYXBwbAAAAAAAAAAAAAAAAC1pbHN0AAAAJal0b28AAAAdZGF0YQAAAAEA\n",
       "AAAATGF2ZjU3LjU2LjEwMQ==\n",
       "\">\n",
       "  Your browser does not support the video tag.\n",
       "</video>"
      ],
      "text/plain": [
       "<matplotlib.animation.FuncAnimation at 0x1120fcf90>"
      ]
     },
     "execution_count": 10,
     "metadata": {},
     "output_type": "execute_result"
    }
   ],
   "source": [
    "plotTrajectoriesFile('EddyParticles.nc', mode='movie2d_notebook')"
   ]
  },
  {
   "cell_type": "markdown",
   "metadata": {
    "deletable": true,
    "editable": true
   },
   "source": [
    "Now one of the neat features of Parcels is that the particles can be plotted as a movie *during execution*, which is great for debugging. To rerun the particles while plotting them on top of the zonal velocity field (`fieldset.U`), first reinitialise the `ParticleSet` and then re-execute. However, now rather than saving the output to a file, display a movie using the `show_movie` keyword, in this case with the zonal velocity `fieldset.U` as background"
   ]
  },
  {
   "cell_type": "code",
   "execution_count": 11,
   "metadata": {
    "collapsed": true,
    "deletable": true,
    "editable": true
   },
   "outputs": [],
   "source": [
    "# THIS DOES NOT WORK IN THIS IPYTHON NOTEBOOK, BECAUSE OF THE INLINE PLOTTING.\n",
    "# THE 'SHOW_MOVIE' KEYWORD WILL WORK ON MOST MACHINES, THOUGH\n",
    "# pset = ParticleSet(fieldset=fieldset, size=2, pclass=JITParticle, lon=[3.3, 3.3], lat=[46.0, 47.8])\n",
    "# pset.execute(AdvectionRK4,\n",
    "#              runtime=timedelta(days=6),\n",
    "#              dt=timedelta(minutes=5),\n",
    "#              interval=timedelta(hours=1),\n",
    "#              show_movie=fieldset.U)"
   ]
  },
  {
   "cell_type": "markdown",
   "metadata": {
    "deletable": true,
    "editable": true
   },
   "source": [
    "## Running particles in backward time"
   ]
  },
  {
   "cell_type": "markdown",
   "metadata": {
    "deletable": true,
    "editable": true
   },
   "source": [
    "Running particles in backward time is extremely simple: just provide a `dt` < 0. Extra keywords `startime` and `endtime` can be used to further control the length of the exection."
   ]
  },
  {
   "cell_type": "code",
   "execution_count": 12,
   "metadata": {
    "collapsed": false,
    "deletable": true,
    "editable": true
   },
   "outputs": [],
   "source": [
    "pset.execute(AdvectionRK4,\n",
    "             starttime=timedelta(days=6),   # the start time of the run\n",
    "             dt=-timedelta(minutes=5),      # negative timestep for backward run\n",
    "             endtime=timedelta(days=0),     # the end time of the run\n",
    "             interval=-timedelta(hours=1),  # negative interval for backward run\n",
    "             output_file=pset.ParticleFile(name=\"EddyParticles_Bwd\"))  # the name of the output file"
   ]
  },
  {
   "cell_type": "markdown",
   "metadata": {
    "deletable": true,
    "editable": true
   },
   "source": [
    "Now print the particles again, and see that they (except for some round-off errors) returned to their original position"
   ]
  },
  {
   "cell_type": "code",
   "execution_count": 13,
   "metadata": {
    "collapsed": false,
    "deletable": true,
    "editable": true
   },
   "outputs": [
    {
     "name": "stdout",
     "output_type": "stream",
     "text": [
      "P[0](lon=3.299995, lat=45.999901, depth=0.000000, time=0.000000)[xi=164, yi=49, zi=0]\n",
      "P[1](lon=3.299851, lat=47.799862, depth=0.000000, time=0.000000)[xi=164, yi=139, zi=0]\n"
     ]
    },
    {
     "data": {
      "image/png": "[encoded data removed]",
      "text/plain": [
       "<matplotlib.figure.Figure at 0x112137690>"
      ]
     },
     "metadata": {},
     "output_type": "display_data"
    }
   ],
   "source": [
    "print(pset)\n",
    "pset.show(field=fieldset.U)"
   ]
  },
  {
   "cell_type": "markdown",
   "metadata": {
    "deletable": true,
    "editable": true
   },
   "source": [
    "## Adding a custom behaviour kernel"
   ]
  },
  {
   "cell_type": "markdown",
   "metadata": {
    "deletable": true,
    "editable": true
   },
   "source": [
    "A key feature of Parcels is the ability to quickly create very simple kernels, and add them to the execution. Kernels are little snippets of code that are run during exection of the particles."
   ]
  },
  {
   "cell_type": "markdown",
   "metadata": {
    "deletable": true,
    "editable": true
   },
   "source": [
    "In this example, we'll create a simple kernel where particles obtain an extra 2 m/s westward velocity after 1 day. Of course, this is not very realistic scenario, but it nicely illustrates the power of custom kernels."
   ]
  },
  {
   "cell_type": "code",
   "execution_count": 14,
   "metadata": {
    "collapsed": false,
    "deletable": true,
    "editable": true
   },
   "outputs": [],
   "source": [
    "def WestVel(particle, fieldset, time, dt):\n",
    "    if time > 86400:\n",
    "        uvel = -2.\n",
    "        particle.lon += uvel * dt / 1.1e5  # 1.1e5 m in 1 degree latitude"
   ]
  },
  {
   "cell_type": "markdown",
   "metadata": {
    "deletable": true,
    "editable": true
   },
   "source": [
    "Now reset the `ParticleSet` again, and re-execute. Note that we have now changed `kernel` to be `AdvectionRK4 + k_WestVel`, where `k_WestVel` is the `WestVel` function as defined above cast into a `Kernel` object (via the `pset.Kernel` call)."
   ]
  },
  {
   "cell_type": "code",
   "execution_count": 15,
   "metadata": {
    "collapsed": false,
    "deletable": true,
    "editable": true
   },
   "outputs": [
    {
     "name": "stderr",
     "output_type": "stream",
     "text": [
      "INFO: Compiled JITParticleAdvectionRK4WestVel ==> /var/folders/r2/8593q8z93kd7t4j9kbb_f7p00000gn/T/parcels-501/7aa5539cf1daebd20849333efa73afde.so\n"
     ]
    }
   ],
   "source": [
    "pset = ParticleSet.from_list(fieldset=fieldset, pclass=JITParticle, lon=[3.3, 3.3], lat=[46.0, 47.8])\n",
    "\n",
    "k_WestVel = pset.Kernel(WestVel)        # casting the WestVel function to a kernel object\n",
    "\n",
    "pset.execute(AdvectionRK4 + k_WestVel,  # simply add kernels using the + operator\n",
    "             runtime=timedelta(days=3),\n",
    "             dt=timedelta(minutes=5),\n",
    "             interval=timedelta(hours=1),\n",
    "             output_file=pset.ParticleFile(name=\"EddyParticles_WestVel\"))"
   ]
  },
  {
   "cell_type": "markdown",
   "metadata": {
    "deletable": true,
    "editable": true
   },
   "source": [
    "And now plot this new trajectory file"
   ]
  },
  {
   "cell_type": "code",
   "execution_count": 16,
   "metadata": {
    "collapsed": false,
    "deletable": true,
    "editable": true
   },
   "outputs": [
    {
     "data": {
      "image/png": "[encoded data removed]",
      "text/plain": [
       "<matplotlib.figure.Figure at 0x111ebab10>"
      ]
     },
     "metadata": {},
     "output_type": "display_data"
    },
    {
     "data": {
      "text/plain": [
       "<module 'matplotlib.pyplot' from '/opt/local/Library/Frameworks/Python.framework/Versions/2.7/lib/python2.7/site-packages/matplotlib/pyplot.pyc'>"
      ]
     },
     "execution_count": 16,
     "metadata": {},
     "output_type": "execute_result"
    }
   ],
   "source": [
    "plotTrajectoriesFile('EddyParticles_WestVel.nc')"
   ]
  },
  {
   "cell_type": "markdown",
   "metadata": {
    "collapsed": true,
    "deletable": true,
    "editable": true
   },
   "source": [
    "## Reading in data from arbritrary NetCDF files"
   ]
  },
  {
   "cell_type": "markdown",
   "metadata": {
    "deletable": true,
    "editable": true
   },
   "source": [
    "In most cases, you will want to advect particles within pre-computed velocity fields. If these velocity fields are stored in NetCDF format, it is fairly easy to load them into the `FieldSet.from_netcdf()` function."
   ]
  },
  {
   "cell_type": "markdown",
   "metadata": {
    "deletable": true,
    "editable": true
   },
   "source": [
    "The `examples` directory contains a set of [GlobCurrent](http://globcurrent.ifremer.fr/products-data/products-overview) files of the region around South Africa."
   ]
  },
  {
   "cell_type": "markdown",
   "metadata": {
    "deletable": true,
    "editable": true
   },
   "source": [
    "First, define the names of the files containing the zonal (U) and meridional (V) velocities. You can use wildcards (`*`) and the filenames for U and V can be the same (as in this case)"
   ]
  },
  {
   "cell_type": "code",
   "execution_count": 17,
   "metadata": {
    "collapsed": false,
    "deletable": true,
    "editable": true
   },
   "outputs": [],
   "source": [
    "filenames = {'U': \"GlobCurrent_example_data/20*.nc\",\n",
    "             'V': \"GlobCurrent_example_data/20*.nc\"}"
   ]
  },
  {
   "cell_type": "markdown",
   "metadata": {
    "deletable": true,
    "editable": true
   },
   "source": [
    "Then, define a dictionary of the variables (`U` and `V`) and dimensions (`lon`, `lat` and `time`; note that in this case there is no `depth` because the GlobCurrent data is only for the surface of the ocean)"
   ]
  },
  {
   "cell_type": "code",
   "execution_count": 18,
   "metadata": {
    "collapsed": false,
    "deletable": true,
    "editable": true
   },
   "outputs": [],
   "source": [
    "variables = {'U': 'eastward_eulerian_current_velocity',\n",
    "             'V': 'northward_eulerian_current_velocity'}\n",
    "dimensions = {'lat': 'lat',\n",
    "              'lon': 'lon',\n",
    "              'time': 'time'}"
   ]
  },
  {
   "cell_type": "markdown",
   "metadata": {
    "deletable": true,
    "editable": true
   },
   "source": [
    "Finally, read in the fieldset using the `FieldSet.from_netcdf` function with the above-defined `filenames`, `variables` and `dimensions`"
   ]
  },
  {
   "cell_type": "code",
   "execution_count": 19,
   "metadata": {
    "collapsed": false,
    "deletable": true,
    "editable": true
   },
   "outputs": [
    {
     "name": "stderr",
     "output_type": "stream",
     "text": [
      "WARNING: Casting lon data to np.float32\n",
      "WARNING: Casting lat data to np.float32\n",
      "WARNING: Casting depth data to np.float32\n"
     ]
    }
   ],
   "source": [
    "fieldset = FieldSet.from_netcdf(filenames, variables, dimensions)"
   ]
  },
  {
   "cell_type": "markdown",
   "metadata": {
    "deletable": true,
    "editable": true
   },
   "source": [
    "Now define a `ParticleSet`, in this case with 5 particle starting on a line between (28E, 33S) and (30E, 33S) using the `ParticleSet.from_line` constructor method"
   ]
  },
  {
   "cell_type": "code",
   "execution_count": 20,
   "metadata": {
    "collapsed": true,
    "deletable": true,
    "editable": true
   },
   "outputs": [],
   "source": [
    "pset = ParticleSet.from_line(fieldset=fieldset, pclass=JITParticle,\n",
    "                             size=5,            # releasing 5 particles\n",
    "                             start=(28, -33),   # releasing on a line: the start longitude and latitude\n",
    "                             finish=(30, -33))  # releasing on a line: the end longitude and latitude"
   ]
  },
  {
   "cell_type": "markdown",
   "metadata": {
    "deletable": true,
    "editable": true
   },
   "source": [
    "And finally execute the `ParticleSet` for 1 week using 4th order Runge-Kutta"
   ]
  },
  {
   "cell_type": "code",
   "execution_count": 21,
   "metadata": {
    "collapsed": false,
    "deletable": true,
    "editable": true
   },
   "outputs": [
    {
     "name": "stderr",
     "output_type": "stream",
     "text": [
      "INFO: Compiled JITParticleAdvectionRK4 ==> /var/folders/r2/8593q8z93kd7t4j9kbb_f7p00000gn/T/parcels-501/b0ae13053c6aaee15a9debc469bb9223.so\n"
     ]
    }
   ],
   "source": [
    "pset.execute(AdvectionRK4,\n",
    "             runtime=timedelta(days=10),\n",
    "             dt=timedelta(minutes=5),\n",
    "             interval=timedelta(hours=6),\n",
    "             output_file=pset.ParticleFile(name=\"GlobCurrentParticles\"))"
   ]
  },
  {
   "cell_type": "markdown",
   "metadata": {
    "deletable": true,
    "editable": true
   },
   "source": [
    "Now visualise this simulation using the `plotParticles` script again. Note you can plot the particles on top of one of the velocity fields using the `tracerfile`, `tracerfield`, etc keywords."
   ]
  },
  {
   "cell_type": "code",
   "execution_count": 22,
   "metadata": {
    "collapsed": false,
    "deletable": true,
    "editable": true
   },
   "outputs": [
    {
     "data": {
      "image/png": "[encoded data removed]",
      "text/plain": [
       "<matplotlib.figure.Figure at 0x1115f94d0>"
      ]
     },
     "metadata": {},
     "output_type": "display_data"
    },
    {
     "data": {
      "text/plain": [
       "<module 'matplotlib.pyplot' from '/opt/local/Library/Frameworks/Python.framework/Versions/2.7/lib/python2.7/site-packages/matplotlib/pyplot.pyc'>"
      ]
     },
     "execution_count": 22,
     "metadata": {},
     "output_type": "execute_result"
    }
   ],
   "source": [
    "plotTrajectoriesFile('GlobCurrentParticles.nc',\n",
    "                     tracerfile='GlobCurrent_example_data/20020101000000-GLOBCURRENT-L4-CUReul_hs-ALT_SUM-v02.0-fv01.0.nc',\n",
    "                     tracerlon='lon',\n",
    "                     tracerlat='lat',\n",
    "                     tracerfield='eastward_eulerian_current_velocity')"
   ]
  },
  {
   "cell_type": "markdown",
   "metadata": {
    "deletable": true,
    "editable": true
   },
   "source": [
    "## Sampling a Field with Particles"
   ]
  },
  {
   "cell_type": "markdown",
   "metadata": {
    "deletable": true,
    "editable": true
   },
   "source": [
    "One typical use case of particle simulations is to sample a Field (such as temperature, vorticity or sea surface hight) along a particle trajectory. In Parcels, this is very easy to do, with a custom Kernel."
   ]
  },
  {
   "cell_type": "markdown",
   "metadata": {
    "deletable": true,
    "editable": true
   },
   "source": [
    "Let's read in another example, the flow around a Peninsula (see [Fig 2.2.3 in this document](http://archimer.ifremer.fr/doc/00157/26792/24888.pdf)), and this time also load the Pressure (`P`) field, using `extra_fields={'P': 'P'}`. Note that, because this flow does not depend on time, we need to set `allow_time_extrapolation=True` when reading in the fieldset."
   ]
  },
  {
   "cell_type": "code",
   "execution_count": 23,
   "metadata": {
    "collapsed": false,
    "deletable": true,
    "editable": true
   },
   "outputs": [],
   "source": [
    "fieldset = FieldSet.from_nemo(\"Peninsula_data/peninsula\", extra_fields={'P': 'P'}, allow_time_extrapolation=True)"
   ]
  },
  {
   "cell_type": "markdown",
   "metadata": {
    "deletable": true,
    "editable": true
   },
   "source": [
    "Now define a new `Particle` class that has an extra `Variable`: the pressure. We initialise this by sampling the `fieldset.P` field."
   ]
  },
  {
   "cell_type": "code",
   "execution_count": 24,
   "metadata": {
    "collapsed": true,
    "deletable": true,
    "editable": true
   },
   "outputs": [],
   "source": [
    "class SampleParticle(JITParticle):         # Define a new particle class\n",
    "    p = Variable('p', initial=fieldset.P)  # Variable 'p' initialised by sampling the pressure"
   ]
  },
  {
   "cell_type": "markdown",
   "metadata": {
    "deletable": true,
    "editable": true
   },
   "source": [
    "Now define a `ParticleSet` using the `from_line` method also used above in the GlobCurrent data. Plot the `pset` and print their pressure values `p`"
   ]
  },
  {
   "cell_type": "code",
   "execution_count": 25,
   "metadata": {
    "collapsed": false,
    "deletable": true,
    "editable": true
   },
   "outputs": [
    {
     "data": {
      "image/png": "[encoded data removed]",
      "text/plain": [
       "<matplotlib.figure.Figure at 0x112066450>"
      ]
     },
     "metadata": {},
     "output_type": "display_data"
    },
    {
     "name": "stdout",
     "output_type": "stream",
     "text": [
      "p values before execution: [-4.6339731, -13.038223, -22.007469, -31.454386, -41.185543]\n"
     ]
    }
   ],
   "source": [
    "pset = ParticleSet.from_line(fieldset=fieldset, pclass=SampleParticle, \n",
    "                             start=(0.1, 0.05), finish=(0.1, 0.4), size=5)\n",
    "pset.show(field=fieldset.P, vmax=1)\n",
    "print 'p values before execution:', [p.p for p in pset]"
   ]
  },
  {
   "cell_type": "markdown",
   "metadata": {
    "deletable": true,
    "editable": true
   },
   "source": [
    "Now create a custom function that samples the `fieldset.P` field at the particle location. Cast this function to a `Kernel`."
   ]
  },
  {
   "cell_type": "code",
   "execution_count": 26,
   "metadata": {
    "collapsed": false,
    "deletable": true,
    "editable": true
   },
   "outputs": [],
   "source": [
    "def SampleP(particle, fieldset, time, dt):  # Custom function that samples fieldset.P at particle location\n",
    "    particle.p = fieldset.P[time, particle.lon, particle.lat, particle.depth]\n",
    "\n",
    "k_sample = pset.Kernel(SampleP)    # Casting the SampleP function to a kernel."
   ]
  },
  {
   "cell_type": "markdown",
   "metadata": {
    "deletable": true,
    "editable": true
   },
   "source": [
    "Finally, execute the `pset` with a combination of the `AdvectionRK4` and `SampleP` kernels, plot the `pset` and print their new pressure values `p`"
   ]
  },
  {
   "cell_type": "code",
   "execution_count": 27,
   "metadata": {
    "collapsed": false,
    "deletable": true,
    "editable": true
   },
   "outputs": [
    {
     "name": "stderr",
     "output_type": "stream",
     "text": [
      "INFO: Compiled SampleParticleAdvectionRK4SampleP ==> /var/folders/r2/8593q8z93kd7t4j9kbb_f7p00000gn/T/parcels-501/a1efa87239f0503ec3a36b54282be753.so\n"
     ]
    },
    {
     "data": {
      "image/png": "[encoded data removed]",
      "text/plain": [
       "<matplotlib.figure.Figure at 0x110dc4250>"
      ]
     },
     "metadata": {},
     "output_type": "display_data"
    },
    {
     "name": "stdout",
     "output_type": "stream",
     "text": [
      "p values after execution: [-4.6339455, -13.037563, -22.007502, -31.454361, -41.18549]\n"
     ]
    }
   ],
   "source": [
    "pset.execute(AdvectionRK4 + k_sample,    # Add kernels using the + operator.\n",
    "             runtime=timedelta(hours=20),\n",
    "             dt=timedelta(minutes=5))\n",
    "pset.show(field=fieldset.P, vmax=1)\n",
    "print 'p values after execution:', [p.p for p in pset]"
   ]
  },
  {
   "cell_type": "markdown",
   "metadata": {
    "deletable": true,
    "editable": true
   },
   "source": [
    "And see that these pressure values `p` are (within roundoff errors) the same as the pressure values before the execution of the kernels. The particles thus stay on isobars!"
   ]
  },
  {
   "cell_type": "markdown",
   "metadata": {
    "deletable": true,
    "editable": true
   },
   "source": [
    "## Calculating distance travelled"
   ]
  },
  {
   "cell_type": "markdown",
   "metadata": {
    "deletable": true,
    "editable": true
   },
   "source": [
    "As a second example of what custom kernels can do, we will now show how to create a kernel that logs the total distance that particles have travelled."
   ]
  },
  {
   "cell_type": "markdown",
   "metadata": {
    "deletable": true,
    "editable": true
   },
   "source": [
    "First, we need to create a new `Particle` class that includes three extra variables. The `distance` variable will be written to output, but the auxiliary variables `prev_lon` and `prev_lat` won't be written to output (can be controlled using the `to_write` keyword)"
   ]
  },
  {
   "cell_type": "code",
   "execution_count": 28,
   "metadata": {
    "collapsed": false,
    "deletable": true,
    "editable": true
   },
   "outputs": [],
   "source": [
    "class DistParticle(JITParticle):  # Define a new particle class that contains three extra variables\n",
    "    distance = Variable('distance', initial=0., dtype=np.float32)  # the distance travelled\n",
    "    prev_lon = Variable('prev_lon', dtype=np.float32, to_write=False,\n",
    "                        initial=attrgetter('lon'))  # the previous longitude\n",
    "    prev_lat = Variable('prev_lat', dtype=np.float32, to_write=False,\n",
    "                        initial=attrgetter('lat'))  # the previous latitude."
   ]
  },
  {
   "cell_type": "markdown",
   "metadata": {
    "deletable": true,
    "editable": true
   },
   "source": [
    "Now define a new function `TotalDistance` that calculates the sum of Euclidean distances between the old and new locations in each RK4 step"
   ]
  },
  {
   "cell_type": "code",
   "execution_count": 29,
   "metadata": {
    "collapsed": false,
    "deletable": true,
    "editable": true
   },
   "outputs": [],
   "source": [
    "def TotalDistance(particle, fieldset, time, dt):\n",
    "    # Calculate the distance in latitudinal direction (using 1.11e2 kilometer per degree latitude)\n",
    "    lat_dist = (particle.lat - particle.prev_lat) * 1.11e2\n",
    "    # Calculate the distance in longitudinal direction, using cosine(latitude) - spherical earth\n",
    "    lon_dist = (particle.lon - particle.prev_lon) * 1.11e2 * math.cos(particle.lat * math.pi / 180)\n",
    "    # Calculate the total Euclidean distance travelled by the particle\n",
    "    particle.distance += math.sqrt(math.pow(lon_dist, 2) + math.pow(lat_dist, 2))\n",
    "\n",
    "    particle.prev_lon = particle.lon  # Set the stored values for next iteration.\n",
    "    particle.prev_lat = particle.lat"
   ]
  },
  {
   "cell_type": "markdown",
   "metadata": {
    "deletable": true,
    "editable": true
   },
   "source": [
    "We will run this on a `ParticleSet` containing the two particles within the idealised moving eddies fieldset from above. Note that `pclass=DistParticle` in this case"
   ]
  },
  {
   "cell_type": "code",
   "execution_count": 30,
   "metadata": {
    "collapsed": true,
    "deletable": true,
    "editable": true
   },
   "outputs": [],
   "source": [
    "fieldset = FieldSet.from_nemo(\"MovingEddies_data/moving_eddies\")\n",
    "pset = ParticleSet.from_list(fieldset=fieldset, pclass=DistParticle, lon=[3.3, 3.3], lat=[46.0, 47.8])"
   ]
  },
  {
   "cell_type": "markdown",
   "metadata": {
    "deletable": true,
    "editable": true
   },
   "source": [
    "Again define a new kernel to include the function written above and execute the `ParticleSet`."
   ]
  },
  {
   "cell_type": "code",
   "execution_count": 31,
   "metadata": {
    "collapsed": false,
    "deletable": true,
    "editable": true
   },
   "outputs": [
    {
     "name": "stderr",
     "output_type": "stream",
     "text": [
      "INFO: Compiled DistParticleAdvectionRK4TotalDistance ==> /var/folders/r2/8593q8z93kd7t4j9kbb_f7p00000gn/T/parcels-501/ff72d45a3f6df0b368c6f9068a044b79.so\n"
     ]
    }
   ],
   "source": [
    "k_dist = pset.Kernel(TotalDistance)  # Casting the TotalDistance function to a kernel.\n",
    "\n",
    "pset.execute(AdvectionRK4 + k_dist,  # Add kernels using the + operator.\n",
    "             runtime=timedelta(days=6),\n",
    "             dt=timedelta(minutes=5),\n",
    "             interval=timedelta(hours=1),\n",
    "             output_file=pset.ParticleFile(name=\"EddyParticles_Dist\"))"
   ]
  },
  {
   "cell_type": "markdown",
   "metadata": {
    "deletable": true,
    "editable": true
   },
   "source": [
    "And finally print the distance that each particle has travelled (note that this is also stored in the `EddyParticles_Dist.nc` file)"
   ]
  },
  {
   "cell_type": "code",
   "execution_count": 32,
   "metadata": {
    "collapsed": false,
    "deletable": true,
    "editable": true
   },
   "outputs": [
    {
     "name": "stdout",
     "output_type": "stream",
     "text": [
      "[952.56293, 990.17273]\n"
     ]
    }
   ],
   "source": [
    "print [p.distance for p in pset]"
   ]
  }
 ],
 "metadata": {
  "kernelspec": {
   "display_name": "Python 2",
   "language": "python",
   "name": "python2"
  },
  "language_info": {
   "codemirror_mode": {
    "name": "ipython",
    "version": 2
   },
   "file_extension": ".py",
   "mimetype": "text/x-python",
   "name": "python",
   "nbconvert_exporter": "python",
   "pygments_lexer": "ipython2",
   "version": "2.7.14"
  }
 },
 "nbformat": 4,
 "nbformat_minor": 0
}
